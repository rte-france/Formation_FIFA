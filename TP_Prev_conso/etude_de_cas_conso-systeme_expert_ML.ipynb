{
 "cells": [
  {
   "cell_type": "markdown",
   "metadata": {},
   "source": [
    "# Le problème : la prévision de consommation électrique\n",
    "\n",
    "Pour garantir l'équilibre offre-demande à chaque instant et gérer l'acheminement de l'électricité, RTE construit ses propres prévisions de la consommation nationale, régionale, et locale, à différentes échéances de temps (de l'infrajournalier au pluri-annuel).\n",
    "\n",
    "Ici on se focalise sur un problème particulier : **la prévision de la consommation électrique nationale horaire à horizon J+1**. \n",
    "\n",
    "## Les données : Eco2mix\n",
    "\n",
    "La courbe de charge France est disponible sur eco2mix :\n",
    "http://www.rte-france.com/fr/eco2mix/eco2mix\n",
    "ou sur application mobile.\n",
    "\n",
    "Vous pouvez naviguer sur le site pour vous familiariser avec les données sur lesquelles vous allez travailler.\n",
    "\n",
    "## Objectif :\n",
    "\n",
    "Au cours de cette étude de cas, nous allons aborder les différentes étapes nécessaires à la construction d'un modèle de prévision de consommation :\n",
    "\n",
    "1) Formalisation du problème Y = f(X): que souhaite-t-on prédire (quel est mon Y) ? Avec quelles variables explicatives (quel est mon X) ?\n",
    "\n",
    "2) Collecte des données : où se trouvent les données ? Quel est le format ? Comment les récupérer ?\n",
    "\n",
    "3) Import des données\n",
    "\n",
    "4) Transformation des données (feature engineering) pour entrainer et tester un premier modèle\n",
    "\n",
    "5) Création de prévision à dire d'expert pour servir de référence\n",
    "\n",
    "6) Découpage des données : apprentissage - test\n",
    "\n",
    "7) Evaluer un modèle\n",
    "\n",
    "8) Tester des algorithmes de référence : régression linéaire, forêts aléatoires\n",
    "\n",
    "9) Itérer à partir des modèles testés pour améliorer les prévisions\n",
    "\n",
    "Nous verrons qu'une difficulté majeure réside dans la construction des \"bonnes\" variables explicatives (\"garbage in, garbage out\").\n",
    "\n",
    "**Le notebook est parsemé de questions (<font color='green'>en vert</font>).\n",
    "\n",
    "## Méthodes de prévision considérées\n",
    "\n",
    "Les modèles actuels reposent sur des méthodes de régression linéaires et non-linéaires. Nous étudierons ici les limites de la régression linéaire.\n",
    "\n",
    "Pour améliorer les prévisions, nous aurons recours aux méthodes dites de Machine Learning. Ces méthodes ne dépendent pas d'une formalisation a priori du lien entre les variables explicatives X et la variable à expliquer Y. \n",
    "Elles sont souvent moins interprétables mais peuvent être plus efficaces en prévision. Elles peuvent nécessiter plus de temps de calcul et plus de données pour cela.\n",
    "\n",
    "Construire un bon modèle d'apprentissage nécessite en général de la connaissance experte dans le domaine d'intérêt pour créer des modèles pertinents et efficaces. \n",
    "\n",
    "## To be continued : deep learning\n",
    "\n",
    "La deuxième étude de cas permettra d'investiguer les modèles \"Deep\" avec réseaux de neurones, en montrant le moindre besoin en feature engineering et leur plus grande capacité à absorber l'information grâce aux représentations hiérarchiques qu'ils créent."
   ]
  },
  {
   "cell_type": "markdown",
   "metadata": {},
   "source": [
    "# Environnement de travail \n",
    "\n",
    "Ceci est un notebook jupyter. Il permet d'exécuter du code python, d'afficher des résultats et d'écrire du texte pour décrire l'ensemble de l'étude.\n",
    "\n",
    "<font color='red'>\n",
    "    \n",
    "**NB : L'aide de python est accessible en tapant help(nom_de_la_commande)**\n",
    "\n",
    "</font>\n",
    "\n",
    "## Chargement des packages"
   ]
  },
  {
   "cell_type": "code",
   "execution_count": null,
   "metadata": {},
   "outputs": [],
   "source": [
    "# Exécutez la cellule ci-dessous (par exemple avec shift-entrée)\n",
    "# Si vous exécuter ce notebook depuis votre PC, il faudra peut-etre installer certaines librairies avec \n",
    "# 'pip install ma_librairie'\n",
    "import os  # accès aux commandes système\n",
    "import datetime  # structure de données pour gérer des objets calendaires\n",
    "from datetime import timezone\n",
    "import pytz\n",
    "import pandas as pd  # gérer des tables de données en python\n",
    "import numpy as np  # librairie d'opérations mathématiques\n",
    "from math import sqrt\n",
    "import zipfile  # compresser ou décompresser fichier\n",
    "import requests, io #get data from url\n",
    "\n",
    "import sklearn  # librairie de machine learning\n",
    "from sklearn.metrics import mean_absolute_error\n",
    "from sklearn.metrics import mean_squared_error\n",
    "from sklearn import linear_model\n",
    "from sklearn.ensemble import RandomForestRegressor\n",
    "from xgboost import XGBRegressor\n",
    "\n",
    "import plotly\n",
    "from plotly.offline import download_plotlyjs, init_notebook_mode, plot, iplot, iplot_mpl\n",
    "import matplotlib.pyplot as plt  # tracer des visualisations\n",
    "from pandas.plotting import register_matplotlib_converters\n",
    "register_matplotlib_converters()\n",
    "\n",
    "%matplotlib inline\n",
    "\n",
    "%autosave 0"
   ]
  },
  {
   "cell_type": "code",
   "execution_count": null,
   "metadata": {},
   "outputs": [],
   "source": [
    "isInColab=True#False if in Jupyter\n",
    "\n",
    "if(isInColab):#to have iplot working in colab\n",
    "    import plotly.io as pio\n",
    "    #pio.renderers\n",
    "    pio.renderers.default = 'colab'"
   ]
  },
  {
   "cell_type": "markdown",
   "metadata": {},
   "source": [
    "## Données disponibles\n",
    "\n",
    "Choix du répertoire de travail \"data_folder\" dans lequel tous les fichiers csv seront entreposés. Ici le répertoire s'appelle *data*.\n",
    "\n",
    "Ensuite on affiche les fichiers du répertoire pour vérification"
   ]
  },
  {
   "cell_type": "code",
   "execution_count": null,
   "metadata": {
    "lines_to_next_cell": 2
   },
   "outputs": [],
   "source": [
    "isDataFromGithub=False #True especially if using colab as it only download the notebook and not the entire github repository. Otherwise with Binder or in local, set it False\n",
    "if isInColab:\n",
    "    isDataFromGithub=True\n",
    "    \n",
    "if(isDataFromGithub):\n",
    "    data_folder='https://raw.githubusercontent.com/rte-france/Formation_FIFA/master/data'#data depuis github\n",
    "else:\n",
    "    data_folder = os.path.join(os.getcwd(), \"data\") #data en local\n"
   ]
  },
  {
   "cell_type": "code",
   "execution_count": null,
   "metadata": {},
   "outputs": [],
   "source": [
    "if(os.path.isdir(data_folder)):\n",
    "    print(\"Mon repertoire est : {}\".format(data_folder))\n",
    "    print(\"Fichiers contenus dans ce répertoire :\")\n",
    "    for file in os.listdir(data_folder):\n",
    "        print(\" - \" + file)"
   ]
  },
  {
   "cell_type": "markdown",
   "metadata": {},
   "source": [
    "# Récupération des données dans Python\n",
    "\n",
    "Dans cette partie nous allons charger les fichiers csv nécessaires pour l'analyse, puis les convertir en data-frame python : \n",
    "- y_conso_tp1.csv\n",
    "- x_input_tp1.zip\n",
    "\n",
    "NB : Les données brutes ont été pré-traitées à l'aide du notebook *preparation_donnees.ipynb* pour obtenir ces deux fichiers."
   ]
  },
  {
   "cell_type": "markdown",
   "metadata": {},
   "source": [
    "## import des données de consommation (notre Y)"
   ]
  },
  {
   "cell_type": "code",
   "execution_count": null,
   "metadata": {
    "lines_to_next_cell": 2
   },
   "outputs": [],
   "source": [
    "y_conso_csv = os.path.join(data_folder, \"y_conso_tp1.csv\")\n",
    "y_conso = pd.read_csv(y_conso_csv)\n",
    "\n",
    "display(y_conso.head(2)) # affichage des premières lignes\n",
    "display(y_conso.tail(2)) # affichage des dernières lignes\n",
    "display(y_conso.info()) # affichage du type de données et de la taille de chaque colonne\n",
    "\n",
    "print(\"---\")\n",
    "print(\"Les dates sont des objets de type :\")\n",
    "print(type(y_conso[\"ds\"].loc[0]))"
   ]
  },
  {
   "cell_type": "markdown",
   "metadata": {},
   "source": [
    "La colonne \"ds\" contient la date, mais celle-ci est reconnue en tant que chaîne de caractères (https://pbpython.com/pandas_dtypes.html) et non en tant qu'objet date. \n",
    "\n",
    "On va la convertir en objets de type \"datetime\" plus appropriés pour extraire des informations comme le jour de la semaine ou l'heure."
   ]
  },
  {
   "cell_type": "code",
   "execution_count": null,
   "metadata": {},
   "outputs": [],
   "source": [
    "y_conso['ds'] = pd.to_datetime(y_conso['ds'], utc=True)\n",
    "\n",
    "print(y_conso.dtypes)\n",
    "display(y_conso.head(2))\n",
    "\n",
    "print(\"---\")\n",
    "print(\"Les dates sont des objets de type :\")\n",
    "print(type(y_conso[\"ds\"].loc[0]))"
   ]
  },
  {
   "cell_type": "markdown",
   "metadata": {},
   "source": [
    "Visuellemement cela ne change rien, pour l'instant, mais plus tard ça nous facilitera la vie pour effectuer des sélections.\n",
    "\n",
    "On peut afficher la dimension du DataFrame (toujours s'assurer que cela correspond aux valeurs attendues) : "
   ]
  },
  {
   "cell_type": "code",
   "execution_count": null,
   "metadata": {},
   "outputs": [],
   "source": [
    "print(y_conso.shape)"
   ]
  },
  {
   "cell_type": "markdown",
   "metadata": {},
   "source": [
    "## Import des variables d'entrée du modèle prédictif \n",
    "\n",
    "**Attention : Les données présentes dans Xinput sont encryptées dans un fichier zip.**  \n",
    "Pour les lire vous avez besoin d'un mot de passe qui ne peut vous être donné que dans le cadre d'un travail au sein de RTE.\n",
    "\n",
    "Sinon, la lecture se déroule comme pour le fichier Yconso.csv : transformation en datetime de la colonne *ds* et vérification des dimensions."
   ]
  },
  {
   "cell_type": "code",
   "execution_count": null,
   "metadata": {
    "lines_to_next_cell": 2
   },
   "outputs": [],
   "source": [
    "password = \"\""
   ]
  },
  {
   "cell_type": "code",
   "execution_count": null,
   "metadata": {},
   "outputs": [],
   "source": [
    "x_input_zip = os.path.join(data_folder, \"x_input_tp1.zip\")\n",
    "if(isDataFromGithub):\n",
    "    ####data sur github\n",
    "    r = requests.get(x_input_zip)\n",
    "    zipfile_xinput = zipfile.ZipFile(io.BytesIO(r.content))\n",
    "else:\n",
    "    ######data en local\n",
    "    zipfile_xinput = zipfile.ZipFile(x_input_zip)\n",
    "\n",
    "# Pour travailler avec les fichiers zip, on utilise la bibliothèque **zipfile**.\n",
    "zipfile_xinput.setpassword(bytes(password, 'utf-8'))\n",
    "x_input = pd.read_csv(zipfile_xinput.open('X2input.csv'), sep=\",\", engine='c', header=0)\n",
    "\n",
    "x_input['ds'] = pd.to_datetime(x_input['ds'], utc=True)"
   ]
  },
  {
   "cell_type": "markdown",
   "metadata": {},
   "source": [
    "Ce fichier pourrait éventuellement être enrichi à l'aide d'autres sources de données (cf. le notebook de préparation des données)."
   ]
  },
  {
   "cell_type": "code",
   "execution_count": null,
   "metadata": {},
   "outputs": [],
   "source": [
    "print(\"Dimensions de X\")\n",
    "print(x_input.shape)"
   ]
  },
  {
   "cell_type": "code",
   "execution_count": null,
   "metadata": {},
   "outputs": [],
   "source": [
    "print(\"Colonnes de X\")\n",
    "print(x_input.columns)"
   ]
  },
  {
   "cell_type": "code",
   "execution_count": null,
   "metadata": {},
   "outputs": [],
   "source": [
    "print(\"Aperçu de X\")\n",
    "display(x_input.head(5))"
   ]
  },
  {
   "cell_type": "markdown",
   "metadata": {},
   "source": [
    "Dans cette étude de cas, par soucis de simplicité, nous allons travailler uniquement avec des\n",
    "**températures France**. Utiliser les températures des différentes stations météo serait une piste\n",
    "intéressante pour améliorer le modèle."
   ]
  },
  {
   "cell_type": "code",
   "execution_count": null,
   "metadata": {},
   "outputs": [],
   "source": [
    "x_input = x_input[['ds', 'month', 'hour', 'posan', 'weekday', 'holiday', 'Th_real_24h_avant', 'Th_prev', 'lag1D', 'lag1W']]\n",
    "display(x_input.head(5))"
   ]
  },
  {
   "cell_type": "code",
   "execution_count": null,
   "metadata": {},
   "outputs": [],
   "source": [
    "display(x_input.info())"
   ]
  },
  {
   "cell_type": "markdown",
   "metadata": {},
   "source": [
    "<font color='green'>\n",
    "    \n",
    "* Quelles sont les variables disponibles (dans x_input et y_conso)?\n",
    "    \n",
    "* Quelles sont les dimensions (nombre d’observations et de variables) de x_input et y_conso après lecture des fichiers csv? Est-ce cohérent?\n",
    "\n",
    "* Les données présentes dans x_input vous semblent-elles pertinentes pour prédire la consommation nationale présente dans y_conso ?\n",
    "\n",
    "* Que pensez-vous de cette notion de \"Température France\"?\n",
    "</font>"
   ]
  },
  {
   "cell_type": "markdown",
   "metadata": {},
   "source": [
    "# Visualisation des données \n",
    "\n",
    "La DataScience et le Machine Learning supposent de bien appréhender les données sur lesquelles nos modèles vont être entrainés. Pour cela, il est utile de faire des statistiques descriptives et des visualisations de nos différentes variables.\n",
    "\n",
    "Traitant d'un problème de prévision, on visualisera en particulier des séries temporelles.\n",
    "\n",
    "--> cf formation DATASX\n",
    "\n",
    "Réaliser quelques statistiques descriptives en préambule peut mettre en évidence des variables explicatives dans le cas d'étude d'un problème jamais traité."
   ]
  },
  {
   "cell_type": "markdown",
   "metadata": {},
   "source": [
    "# Outils de construction de modèle\n",
    "<img src=\"pictures/etabli.jpg\"  width=500 >"
   ]
  },
  {
   "cell_type": "markdown",
   "metadata": {},
   "source": [
    "## Construction des jeux d'entrainement et de test\n",
    "\n",
    "Pour éviter de construire un modèle qui apprend \"par coeur\" sur ses données, et qui disposerait alors d'une capacité de généralisation faible, il est d'usage courant de disposer de plusieurs jeux de données (de caractéristiques similaires). Le minimum est de construire \n",
    "\n",
    "* un jeu d'entraînement, sur lequel on cale les paramètres du modèle, \n",
    "\n",
    "* un jeu de test, jamais vu durant l'entraînement, sur lequel on va évaluer le modèle. \n",
    "\n",
    "Rapidement dit : un bon modèle est un modèle dont la capacité prédictive ne se dégrade pas trop sur le jeu test.\n",
    "\n",
    "Pour cela, on crée la fonction *prepareDataSetEntrainementTest* qui va permettre de couper Y et Xinput en deux parties."
   ]
  },
  {
   "cell_type": "code",
   "execution_count": null,
   "metadata": {},
   "outputs": [],
   "source": [
    "def prepareDataSetEntrainementTest(x, y, date_debut, date_rupture, nb_jours_lag_regresseur=0):\n",
    "    \n",
    "    dateStart = x.iloc[0]['ds']\n",
    "    \n",
    "    # si un a un regresseur avec du lag, il faut prendre en compte ce lag \n",
    "    # et commencer l'entrainement a la date de debut des donnees+ce lag\n",
    "    DateStartWithLag = dateStart + pd.Timedelta(str(nb_jours_lag_regresseur) + ' days')\n",
    "    \n",
    "    x_test = x[(x.ds >= date_rupture)]\n",
    "    x_train = x[(x.ds < date_rupture) & (x.ds > DateStartWithLag) & (x.ds > date_debut)]\n",
    "    y_train = y[(y.ds < date_rupture) & (y.ds > DateStartWithLag) & (y.ds > date_debut)]\n",
    "    y_test = y[(x.ds >= date_rupture)]\n",
    "    \n",
    "    return x_train, x_test, y_train, y_test"
   ]
  },
  {
   "cell_type": "markdown",
   "metadata": {},
   "source": [
    "## Fonctions utilitaires"
   ]
  },
  {
   "cell_type": "markdown",
   "metadata": {},
   "source": [
    "Créons la fonction modelError qui va calculer pour un échantillon (y, y_hat) différents scores :\n",
    "- erreur relative moyenne (MAPE en %)\n",
    "- erreur relative max (en %)\n",
    "- RMSE (en MW)\n",
    "\n",
    "Cette fonction est ensuite utilisée par les fonctions *evaluation* et *evaluation_par* qui nous permettront d'évaluer nos modèles.\n",
    "\n",
    "<img src=\"pictures/evaluation.jpg\"  width=250 >"
   ]
  },
  {
   "cell_type": "code",
   "execution_count": null,
   "metadata": {},
   "outputs": [],
   "source": [
    "def modelError(y_true, y_hat):\n",
    "\n",
    "    Y = y_true.reset_index(drop=True).copy()\n",
    "    \n",
    "    relative_errors = np.abs((Y['y'] - y_hat) / Y['y']) \n",
    "    mean_error = np.mean(relative_errors)\n",
    "    max_error = np.max(relative_errors)\n",
    "    rmse = np.sqrt(mean_squared_error(Y['y'], y_hat))\n",
    "   \n",
    "    return relative_errors, mean_error, max_error, rmse"
   ]
  },
  {
   "cell_type": "code",
   "execution_count": null,
   "metadata": {},
   "outputs": [],
   "source": [
    "def evaluation(y_train, y_test, y_train_hat, y_test_hat):\n",
    "    # Ytrain et Ytest ont deux colonnes : ds et y\n",
    "    # YtrainHat et YTestHat sont des vecteurs\n",
    "    \n",
    "    ErreursTest, ErreurMoyenneTest, ErreurMaxTest, RMSETest = modelError(y_test, y_test_hat)\n",
    "    print(\"l'erreur relative moyenne de test est de :\" + str(round(ErreurMoyenneTest * 100, 1)) + \"%\")\n",
    "    print(\"l'erreur relative max de test est de :\" + str(round(ErreurMaxTest * 100, 1)) + \"%\")\n",
    "    print('le rmse de test est de :' + str(round(RMSETest, 0)))\n",
    "    print()\n",
    "    \n",
    "    ErreursTest, ErreurMoyenneTest, ErreurMaxTest, RMSETest = modelError(y_train, y_train_hat)\n",
    "    print(\"l'erreur relative moyenne de train est de :\" + str(round(ErreurMoyenneTest * 100, 1)) + \"%\")\n",
    "    print(\"l'erreur relative max de train est de :\" + str(round(ErreurMaxTest * 100, 1)) + \"%\")\n",
    "    print('le rmse de test est de :' + str(round(RMSETest, 0))) "
   ]
  },
  {
   "cell_type": "code",
   "execution_count": null,
   "metadata": {},
   "outputs": [],
   "source": [
    "def evaluation_par(X, Y, Yhat, avec_JF=True):\n",
    "    Ytmp = Y.copy()\n",
    "    Ytmp['weekday'] = Ytmp.ds.dt.weekday\n",
    "    Ytmp['hour'] = Ytmp.ds.dt.hour\n",
    "    if(avec_JF):\n",
    "        Ytmp['jours_feries'] = X['jours_feries'].values\n",
    "    Ytmp['APE'] = np.abs(Ytmp['y'] - Yhat) / Ytmp['y']\n",
    "    dataWD = Ytmp[['weekday', 'APE']]\n",
    "    groupedWD = dataWD.groupby(['weekday'], as_index=True)\n",
    "    statsWD = groupedWD.aggregate([np.mean])\n",
    "    dataHour = Ytmp[['hour', 'APE']]\n",
    "    groupedHour = dataHour.groupby(['hour'], as_index=True)\n",
    "    statsHour = groupedHour.aggregate([np.mean])\n",
    "    \n",
    "    if(avec_JF):\n",
    "        dataJF = Ytmp[['jours_feries', 'APE']].copy()\n",
    "        groupedJF = dataJF.groupby(['jours_feries'], as_index=True)\n",
    "        statsJF = groupedJF.aggregate([np.mean])\n",
    "    else:\n",
    "        statsJF = None\n",
    "    \n",
    "    return statsWD, statsHour, statsJF"
   ]
  },
  {
   "cell_type": "markdown",
   "metadata": {},
   "source": [
    "# Préparation des variables explicatives : préparation de Xinput\n",
    "\n",
    "L'objectif de cette partie est d'enrichir Xinput à partir des données initiales. Il s'agit notamment d'exploiter les différentes informations calendaires disponibles.\n",
    "\n",
    "On encode les données calendaires en **one-hot encoding** pour le modèle. Autrement dit, on construit pour chaque modalité, une variable binaire associée.\n",
    "Cet encodage est nécessaire pour que le modèle mathématique puisse appréhender la notion de date."
   ]
  },
  {
   "cell_type": "code",
   "execution_count": null,
   "metadata": {},
   "outputs": [],
   "source": [
    "encoded_weekday = pd.get_dummies(x_input['weekday'], prefix=\"weekday\")\n",
    "encoded_month = pd.get_dummies(x_input['month'], prefix=\"month\")\n",
    "encoded_hour = pd.get_dummies(x_input['hour'], prefix=\"hour\")"
   ]
  },
  {
   "cell_type": "code",
   "execution_count": null,
   "metadata": {},
   "outputs": [],
   "source": [
    "encoded_weekday.head(3)"
   ]
  },
  {
   "cell_type": "code",
   "execution_count": null,
   "metadata": {},
   "outputs": [],
   "source": [
    "encoded_month.head(3)"
   ]
  },
  {
   "cell_type": "code",
   "execution_count": null,
   "metadata": {},
   "outputs": [],
   "source": [
    "encoded_hour.head(3)"
   ]
  },
  {
   "cell_type": "code",
   "execution_count": null,
   "metadata": {},
   "outputs": [],
   "source": [
    "x_input = pd.concat([x_input, encoded_month, encoded_weekday, encoded_hour], axis=1)\n",
    "x_input = x_input.drop(columns=['month', 'weekday', 'hour'])"
   ]
  },
  {
   "cell_type": "code",
   "execution_count": null,
   "metadata": {},
   "outputs": [],
   "source": [
    "print(x_input.shape)\n",
    "print(x_input.columns)"
   ]
  },
  {
   "cell_type": "markdown",
   "metadata": {},
   "source": [
    "On crée une variable binaire associée à chaque jour férié."
   ]
  },
  {
   "cell_type": "code",
   "execution_count": null,
   "metadata": {},
   "outputs": [],
   "source": [
    "#Récupération des jours fériés dans Xinput\n",
    "encoded_holidays = pd.get_dummies(x_input[['holiday']], prefix=\"JF\")\n",
    "encoded_holidays['jours_feries'] = encoded_holidays.sum(axis=1)\n",
    "x_input = pd.concat([x_input, encoded_holidays], axis=1)\n",
    "x_input = x_input.drop(['holiday'], axis=1)"
   ]
  },
  {
   "cell_type": "markdown",
   "metadata": {},
   "source": [
    "On ajoute des températures seuillées, à 15°C pour l'effet chauffage, et à 18°C pour l'effet climatisation."
   ]
  },
  {
   "cell_type": "code",
   "execution_count": null,
   "metadata": {},
   "outputs": [],
   "source": [
    "threshold_temperature_heat = 15\n",
    "threshold_temperature_cool = 18\n",
    "\n",
    "x_input['temp_prev_with_threshold_heat'] = np.maximum(0, threshold_temperature_heat - x_input['Th_prev'].values)\n",
    "x_input['temp_prev_with_threshold_cool'] = np.maximum(0, x_input['Th_prev'].values - threshold_temperature_cool)"
   ]
  },
  {
   "cell_type": "code",
   "execution_count": null,
   "metadata": {},
   "outputs": [],
   "source": [
    "# Affichage de toutes les variables de base\n",
    "list(x_input)  # list plutôt que print pour avoir la liste complète"
   ]
  },
  {
   "cell_type": "markdown",
   "metadata": {},
   "source": [
    "Enfin, nous construisons les listes pour appeler plus rapidement les colonnes d'un même type."
   ]
  },
  {
   "cell_type": "code",
   "execution_count": null,
   "metadata": {
    "scrolled": true
   },
   "outputs": [],
   "source": [
    "cols_to_keep_weather = [s for s in x_input.columns if 'Th_prev' in s]\n",
    "cols_to_keep_month = [v for v in x_input.columns if 'month' in v]\n",
    "cols_to_keep_weekday = [v for v in x_input.columns if 'weekday' in v]\n",
    "cols_to_keep_hour = [v for v in x_input.columns if 'hour' in v]\n",
    "cols_to_keep_holidays = [v for v in x_input.columns if 'JF_' in v]"
   ]
  },
  {
   "cell_type": "code",
   "execution_count": null,
   "metadata": {},
   "outputs": [],
   "source": [
    "# on souhaite un jeu de test qui commence à partir du 1er mai 2017\n",
    "date_debut = pytz.utc.localize( datetime.datetime(year=2014, month=1, day=15))  # pour éviter les NaN dans le jeu de données\n",
    "date_rupture = pytz.utc.localize(datetime.datetime(year=2017, month=12, day=1))  # début du challenge prevision de conso\n",
    "nb_jours_lag_regresseur = 0"
   ]
  },
  {
   "cell_type": "code",
   "execution_count": null,
   "metadata": {},
   "outputs": [],
   "source": [
    "y_conso.tail()"
   ]
  },
  {
   "cell_type": "code",
   "execution_count": null,
   "metadata": {},
   "outputs": [],
   "source": [
    "x_train, x_test, y_train, y_test = prepareDataSetEntrainementTest(\n",
    "    x_input, \n",
    "    y_conso, \n",
    "    date_debut, \n",
    "    date_rupture, \n",
    "    nb_jours_lag_regresseur\n",
    ")"
   ]
  },
  {
   "cell_type": "code",
   "execution_count": null,
   "metadata": {
    "scrolled": false
   },
   "outputs": [],
   "source": [
    "print('La taille de l échantillon XinputTrain est : ' + str(x_train.shape))\n",
    "print('La taille de l échantillon XinputTest est : ' + str(x_test.shape))\n",
    "print('La taille de l échantillon YconsoTrain est : ' + str(y_train.shape))\n",
    "print('La taille de l échantillon YconsoTest est : ' + str(y_test.shape))\n",
    "print(\"La proportion de data d'entrainement est de : \" + str(round(y_train.shape[0] / (y_train.shape[0] + y_test.shape[0]), 2)) + \"%\")"
   ]
  },
  {
   "cell_type": "markdown",
   "metadata": {},
   "source": [
    "# <b style=\"color:red;\"> Fin du TP ici. </b>\n",
    "\n",
    "# Partie optionnelle : \n",
    "\n",
    "# Construction d'un modèle prédictif naïf\n",
    "\n",
    "<img src=\"pictures/hommeNaif.png\" width=500 >"
   ]
  },
  {
   "cell_type": "markdown",
   "metadata": {},
   "source": [
    "## Une idée de modèle naïf : on plaque bêtement la valeur de consommation nationale de la veille\n",
    "Ce modèle n'a même pas besoin de regarder le jeu d'entrainement !"
   ]
  },
  {
   "cell_type": "code",
   "execution_count": null,
   "metadata": {
    "scrolled": true
   },
   "outputs": [],
   "source": [
    "pred_train_naif_1 = x_train[\"lag1D\"]\n",
    "pred_test_naif_1 = x_test[\"lag1D\"]\n",
    "\n",
    "evaluation(y_train, y_test,  pred_train_naif_1.values, pred_test_naif_1.values)"
   ]
  },
  {
   "cell_type": "markdown",
   "metadata": {},
   "source": [
    "Bon c'est pas fou..."
   ]
  },
  {
   "cell_type": "markdown",
   "metadata": {},
   "source": [
    "# Modèle Type Système Expert (boîte blanche)\n",
    "\n",
    "Chez RTE, on considère qu'une baisse moyenne de 1°C conduit à une augmentation de 2400MW de la consommation nationale pour des températures inférieures à 15°C. On propose donc comme consommation prévue la consommation de la veille, corrigée par 2400 fois l'écart à la température de la veille, si l'on n'excède pas les 15°C.\n",
    "\n",
    "\n",
    "<img src=\"pictures/ExpertJamy.jpg\" width=500 >"
   ]
  },
  {
   "cell_type": "markdown",
   "metadata": {},
   "source": [
    "## Definition des régles expertes"
   ]
  },
  {
   "cell_type": "code",
   "execution_count": null,
   "metadata": {},
   "outputs": [],
   "source": [
    "# Petit rappel\n",
    "print(threshold_temperature_heat)"
   ]
  },
  {
   "cell_type": "code",
   "execution_count": null,
   "metadata": {},
   "outputs": [],
   "source": [
    "# C'est ici que l'on fait intervenir notre expertise !\n",
    "delta_MW_par_degre = 2400"
   ]
  },
  {
   "cell_type": "code",
   "execution_count": null,
   "metadata": {},
   "outputs": [],
   "source": [
    "# prévision train\n",
    "temp_prev_with_threshold = np.minimum([threshold_temperature_heat], x_train['Th_prev'].values)\n",
    "temp_actual_with_threshold = np.minimum([threshold_temperature_heat], x_train['Th_real_24h_avant'].values)\n",
    "\n",
    "delta_temp = temp_prev_with_threshold - temp_actual_with_threshold\n",
    "delta_MW_because_temp = delta_temp * delta_MW_par_degre\n",
    "\n",
    "pred_train_naif_2 = x_train[\"lag1D\"] - delta_MW_because_temp\n",
    "\n",
    "# prévision test\n",
    "temp_prev_with_threshold = np.minimum([threshold_temperature_heat], x_test['Th_prev'].values)\n",
    "temp_actual_with_threshold = np.minimum([threshold_temperature_heat], x_test['Th_real_24h_avant'].values)\n",
    "\n",
    "delta_temp = temp_prev_with_threshold - temp_actual_with_threshold\n",
    "delta_MW_because_temp = delta_temp * delta_MW_par_degre\n",
    "pred_test_naif_2 = x_test[\"lag1D\"] - delta_MW_because_temp\n",
    "\n",
    "# scores\n",
    "evaluation(y_train, y_test,  pred_train_naif_2.values, pred_test_naif_2.values)"
   ]
  },
  {
   "cell_type": "markdown",
   "metadata": {},
   "source": [
    "Bon... Bien essayé avec ces modèles bricolés, mais maintenant on va être plus sérieux !"
   ]
  },
  {
   "cell_type": "markdown",
   "metadata": {},
   "source": [
    "# Apprentissage Automatique"
   ]
  },
  {
   "cell_type": "markdown",
   "metadata": {},
   "source": [
    "\n",
    "## Régression linéaire simple (boîte grise)\n",
    "\n",
    "Le modèle naïf avec expertise métier a été inspiré de la forme de la courbe d'évolution de la consommation en fonction de la température en France. "
   ]
  },
  {
   "cell_type": "code",
   "execution_count": null,
   "metadata": {},
   "outputs": [],
   "source": [
    "plt.scatter(x_input['Th_prev'], y_conso['y'], alpha=0.2)\n",
    "plt.show()"
   ]
  },
  {
   "cell_type": "markdown",
   "metadata": {},
   "source": [
    "La consommation pourrait être modélisée par une fonction linéaire par morceaux de la température, avec une pente plus importante pour les températures froides que pour les températures élevées. Au lieu de fixer les gradients à 2400MW/°C et 0, ceux-ci pourraient être calibrés à partir des données.\n"
   ]
  },
  {
   "cell_type": "markdown",
   "metadata": {},
   "source": [
    "### Entrainer un modèle\n",
    "Notre modèle a des paramètres qu'il va falloir maintenant apprendre au vu de notre jeu d'entrainement. Il faut donc caler notre modèle sur ce jeu d'entrainement."
   ]
  },
  {
   "cell_type": "code",
   "execution_count": null,
   "metadata": {},
   "outputs": [],
   "source": [
    "cols_LR = [\"Th_prev\", 'temp_prev_with_threshold_heat', 'temp_prev_with_threshold_cool']\n",
    "# cols_LR = [\"Th_prev\", 'temp_prev_with_threshold_heat', 'temp_prev_with_threshold_cool'] + cols_to_keep_month + cols_to_keep_hour\n",
    "# cols_LR = [\"Th_prev\", 'temp_prev_with_threshold_heat', 'temp_prev_with_threshold_cool'] + cols_to_keep_month + cols_to_keep_hour + cols_to_keep_weekday\n",
    "print(cols_LR)\n",
    "\n",
    "linear_regr = linear_model.LinearRegression()\n",
    "linear_regr.fit(x_train[cols_LR], y_train[['y']])"
   ]
  },
  {
   "cell_type": "markdown",
   "metadata": {},
   "source": [
    "### Interpréter le modèle "
   ]
  },
  {
   "cell_type": "code",
   "execution_count": null,
   "metadata": {
    "scrolled": false
   },
   "outputs": [],
   "source": [
    "coefs_jolis = pd.DataFrame(\n",
    "    np.concatenate((np.array([cols_LR]).T, linear_regr.coef_.T), axis=1),\n",
    "    columns = ['variable', 'coefficient']\n",
    ")\n",
    "coefs_jolis.sort_values(by=\"coefficient\", ascending=False)\n",
    "\n",
    "display(coefs_jolis)"
   ]
  },
  {
   "cell_type": "markdown",
   "metadata": {},
   "source": [
    "<font color='green'>\n",
    "\n",
    "* Commentez les coefficients de régression obtenus. \n",
    "* Comparez notamment les gradients obtenus avec le modèle naïf.\n",
    "\n",
    "</font>"
   ]
  },
  {
   "cell_type": "markdown",
   "metadata": {},
   "source": [
    "### Faire des prédictions\n",
    "Une fois qu'un modèle de prévision est entrainé, il ne s'avère utile que s'il est performant sur de nouvelles situations. Faisons une prévision sur notre jeu de test. Traçons les courbes obtenues et calculons les scores."
   ]
  },
  {
   "cell_type": "code",
   "execution_count": null,
   "metadata": {},
   "outputs": [],
   "source": [
    "forecast_train = np.concatenate(linear_regr.predict(x_train[cols_LR]))\n",
    "forecast_test = np.concatenate(linear_regr.predict(x_test[cols_LR]))"
   ]
  },
  {
   "cell_type": "code",
   "execution_count": null,
   "metadata": {
    "scrolled": false
   },
   "outputs": [],
   "source": [
    "plt.scatter(forecast_test, y_test[['y']])\n",
    "plt.plot([y_test[['y']].min(), y_test[['y']].max()], [y_test[['y']].min(), y_test[['y']].max()], 'r', lw=2)\n",
    "plt.show()\n",
    "\n",
    "plt.plot(y_test['ds'], y_test['y'], 'b', y_test['ds'], forecast_test, 'r')\n",
    "plt.show()\n",
    "\n",
    "plt.scatter(x_test['Th_prev'], y_test['y'], alpha=0.2)\n",
    "plt.scatter(x_test['Th_prev'], forecast_test, alpha=0.2)\n",
    "plt.show()"
   ]
  },
  {
   "cell_type": "code",
   "execution_count": null,
   "metadata": {
    "scrolled": false
   },
   "outputs": [],
   "source": [
    "evaluation(y_train, y_test, forecast_train,  forecast_test)\n",
    "eval_weekday, eval_hour, eval_JF = evaluation_par(x_test, y_test, forecast_test, avec_JF=True)\n",
    "\n",
    "display(round(eval_weekday * 100, 1))\n",
    "display(round(eval_hour * 100, 1))\n",
    "display(round(eval_JF * 100, 1))"
   ]
  },
  {
   "cell_type": "markdown",
   "metadata": {},
   "source": [
    "#### Comment se distribue l'erreur ?"
   ]
  },
  {
   "cell_type": "code",
   "execution_count": null,
   "metadata": {},
   "outputs": [],
   "source": [
    "erreur_relative_test, erreur_moyenne_test, erreur_max_test, rmse = modelError(y_test, forecast_test)"
   ]
  },
  {
   "cell_type": "code",
   "execution_count": null,
   "metadata": {
    "scrolled": true
   },
   "outputs": [],
   "source": [
    "num_bins = 100\n",
    "plt.hist(erreur_relative_test, num_bins)\n",
    "plt.show()"
   ]
  },
  {
   "cell_type": "markdown",
   "metadata": {},
   "source": [
    "#### A quel moment se trompe-t-on le plus ?"
   ]
  },
  {
   "cell_type": "code",
   "execution_count": null,
   "metadata": {},
   "outputs": [],
   "source": [
    "iplot([{\"x\": y_test['ds'], \"y\": erreur_relative_test}])"
   ]
  },
  {
   "cell_type": "markdown",
   "metadata": {},
   "source": [
    "Regardons les erreurs les plus flagrantes :"
   ]
  },
  {
   "cell_type": "code",
   "execution_count": null,
   "metadata": {},
   "outputs": [],
   "source": [
    "q = 0.9975\n",
    "threshold = np.quantile(erreur_relative_test.values, q)\n",
    "\n",
    "print(\"Quantile des erreurs à {}% : {}\".format(q * 100,  round(threshold, 5)))"
   ]
  },
  {
   "cell_type": "code",
   "execution_count": null,
   "metadata": {},
   "outputs": [],
   "source": [
    "error_order = np.argsort(erreur_relative_test.values)[::-1]\n",
    "mask = (erreur_relative_test.iloc[error_order] >= threshold)\n",
    "erreurs_df = pd.DataFrame(\n",
    "    np.concatenate((y_test[['ds','y']],\n",
    "                    y_test.ds.dt.weekday.values.reshape(-1,1),\n",
    "                    y_test.ds.dt.hour.values.reshape(-1,1),\n",
    "                    100*erreur_relative_test.values.reshape(-1,1),\n",
    "                    np.array([forecast_test]).T), axis=1),\n",
    "    columns=[\"date\",\"y\", \"weekday\", \"hour\",\"erreur_relative (%)\",\"prev\"]\n",
    ")[[\"date\",\"weekday\", \"hour\",\"y\",\"prev\",\"erreur_relative (%)\"]]\n",
    "\n",
    "display(erreurs_df.iloc[error_order][mask])"
   ]
  },
  {
   "cell_type": "code",
   "execution_count": null,
   "metadata": {},
   "outputs": [],
   "source": [
    "y_test_copy = y_test[['ds','y']].copy()\n",
    "y_test_copy[\"erreur_relative_%\"] = erreur_relative_test.values * 100\n",
    "y_test_copy['weekday'] = y_test_copy.ds.dt.weekday\n",
    "y_test_copy['hour'] = y_test_copy.ds.dt.hour\n",
    "y_test_copy['is_bank_holiday'] = x_test[\"jours_feries\"]\n",
    "\n",
    "groupe_wd = y_test_copy.groupby(['weekday'], as_index=True)\n",
    "stats_wd = groupe_wd[\"y\", \"erreur_relative_%\"].aggregate([\"mean\"])\n",
    "\n",
    "groupe_hour = y_test_copy.groupby(['hour'], as_index=True)\n",
    "stats_hour = groupe_hour[\"y\", \"erreur_relative_%\"].aggregate([\"mean\"])\n",
    "\n",
    "groupe_bh = y_test_copy.groupby(['is_bank_holiday'], as_index=True)\n",
    "stats_bh = groupe_bh[\"y\", \"erreur_relative_%\"].aggregate([\"mean\"])\n",
    "\n",
    "display(stats_wd)\n",
    "display(stats_hour)\n",
    "display(stats_bh)"
   ]
  },
  {
   "cell_type": "markdown",
   "metadata": {},
   "source": [
    "Au vu des résultats précédents :\n",
    "<font color= 'green'>\n",
    "\n",
    "- que pensez-vous du modèle?\n",
    "- comment se distribue l'erreur?\n",
    "- quand se trompe-t-on le plus?\n",
    "- quelles variables explicatives ajouter?\n",
    "\n",
    "Vous pouvez aussi réessayer avec un cols_LR qui contient les mois et les heures.\n",
    "\n",
    "</font>"
   ]
  },
  {
   "cell_type": "markdown",
   "metadata": {},
   "source": [
    "## Modèles avancés (boîtes noires)"
   ]
  },
  {
   "cell_type": "markdown",
   "metadata": {},
   "source": [
    "### Modèle RandomForest\n",
    "\n",
    "<img src=\"pictures/randomForestExplain.png\" width=500>"
   ]
  },
  {
   "cell_type": "markdown",
   "metadata": {},
   "source": [
    "#### Choix des données d'entrée"
   ]
  },
  {
   "cell_type": "code",
   "execution_count": null,
   "metadata": {},
   "outputs": [],
   "source": [
    "cols_RF = ['lag1D','lag1W']\\\n",
    "+ cols_to_keep_weather\\\n",
    "+ cols_to_keep_month\\\n",
    "+ cols_to_keep_weekday\\\n",
    "+ cols_to_keep_hour\\\n",
    "+ cols_to_keep_holidays\n",
    "\n",
    "list(cols_RF)"
   ]
  },
  {
   "cell_type": "code",
   "execution_count": null,
   "metadata": {},
   "outputs": [],
   "source": [
    "display(x_train[cols_RF].head(20))"
   ]
  },
  {
   "cell_type": "markdown",
   "metadata": {},
   "source": [
    "#### Entrainement du modèle"
   ]
  },
  {
   "cell_type": "code",
   "execution_count": null,
   "metadata": {},
   "outputs": [],
   "source": [
    "# La cellule peut prendre un peu de temps à exécuter\n",
    "rf_regr = RandomForestRegressor(\n",
    "    n_estimators=30, \n",
    "    max_depth=20,\n",
    "    n_jobs=3,\n",
    ")\n",
    "\n",
    "rf_regr.fit(x_train[cols_RF], y_train['y'])"
   ]
  },
  {
   "cell_type": "markdown",
   "metadata": {},
   "source": [
    "<font color='green'>\n",
    "\n",
    "* Grâce à l'aide de la fonction, expliquer les paramètres de cette méthode\n",
    "\n",
    "</font>"
   ]
  },
  {
   "cell_type": "markdown",
   "metadata": {},
   "source": [
    "#### Prediction"
   ]
  },
  {
   "cell_type": "code",
   "execution_count": null,
   "metadata": {},
   "outputs": [],
   "source": [
    "forecast_train = rf_regr.predict(x_train[cols_RF])\n",
    "forecast_test = rf_regr.predict(x_test[cols_RF])"
   ]
  },
  {
   "cell_type": "markdown",
   "metadata": {},
   "source": [
    "#### Evaluation"
   ]
  },
  {
   "cell_type": "code",
   "execution_count": null,
   "metadata": {
    "lines_to_end_of_cell_marker": 2
   },
   "outputs": [],
   "source": [
    "evaluation(y_train, y_test, forecast_train, forecast_test)\n",
    "\n",
    "# on visualise nos previsions par rapport a la realité\n",
    "plt.plot(y_test['ds'], y_test['y'], 'b', y_test['ds'], forecast_test, 'r')\n",
    "plt.show()"
   ]
  },
  {
   "cell_type": "code",
   "execution_count": null,
   "metadata": {
    "scrolled": true
   },
   "outputs": [],
   "source": [
    "eval_weakday, eval_hour, eval_JF = evaluation_par(x_test, y_test, forecast_test)\n",
    "\n",
    "display(round(eval_weakday * 100, 1))\n",
    "display(round(eval_hour * 100, 1))\n",
    "display(round(eval_JF * 100, 1))"
   ]
  },
  {
   "cell_type": "code",
   "execution_count": null,
   "metadata": {},
   "outputs": [],
   "source": [
    "erreur_relative_test, erreur_moyenne_test, erreur_max_test, rmse = modelError(y_test, forecast_test)"
   ]
  },
  {
   "cell_type": "code",
   "execution_count": null,
   "metadata": {
    "scrolled": true
   },
   "outputs": [],
   "source": [
    "num_bins = 100\n",
    "plt.hist(erreur_relative_test, num_bins)\n",
    "plt.show()"
   ]
  },
  {
   "cell_type": "markdown",
   "metadata": {},
   "source": [
    "#### A quel moment se trompe-t-on le plus ?"
   ]
  },
  {
   "cell_type": "code",
   "execution_count": null,
   "metadata": {},
   "outputs": [],
   "source": [
    "iplot([{\"x\": y_test['ds'], \"y\": erreur_relative_test}])"
   ]
  },
  {
   "cell_type": "code",
   "execution_count": null,
   "metadata": {},
   "outputs": [],
   "source": [
    "error_order = np.argsort(erreur_relative_test.values)[::-1]\n",
    "\n",
    "erreurs_df = pd.DataFrame(\n",
    "    np.concatenate((y_test[['ds','y']],\n",
    "                    y_test.ds.dt.weekday.values.reshape(-1,1),\n",
    "                    y_test.ds.dt.hour.values.reshape(-1,1),\n",
    "                    100*erreur_relative_test.values.reshape(-1,1),\n",
    "                    np.array([forecast_test]).T), axis=1),\n",
    "    columns=[\"date\",\"y\", \"weekday\", \"hour\",\"erreur_relative (%)\",\"prev\"]\n",
    ")[[\"date\",\"weekday\", \"hour\",\"y\",\"prev\",\"erreur_relative (%)\"]]\n",
    "\n",
    "display(erreurs_df.iloc[error_order].head(20))"
   ]
  },
  {
   "cell_type": "markdown",
   "metadata": {},
   "source": [
    "# Bonus: à vous de jouer\n",
    "\n",
    "Bravo ! Vous avez déjà créé un premier modèle performant pour faire des prévisions sur une fenêtre glissante à horizon 24h !\n",
    "\n",
    "Maintenant à vous de mettre votre expertise pour améliorer les performances de vos modèles. Vous pouvez continuer à explorer le problème selon plusieurs axes:\n",
    "- choix du modèle (xgboost ?), tuning\n",
    "- apprendre votre modèle sur une période différente\n",
    "- créer de nouvelles variables explicatives ? Quid de la météo et de la température? Des jours fériés ? Du feature engineering plus complexe...\n",
    "- détecter des outliers dans les données\n",
    "\n",
    "Si vous voulez en apprendre plus => direction la formation DATAS2 !\n",
    "\n",
    "Mettez-vous en 3 groupes, explorez pendant 30 minutes, et restituez."
   ]
  },
  {
   "cell_type": "code",
   "execution_count": null,
   "metadata": {},
   "outputs": [],
   "source": []
  },
  {
   "cell_type": "code",
   "execution_count": null,
   "metadata": {},
   "outputs": [],
   "source": []
  }
 ],
 "metadata": {
  "jupytext": {
   "formats": "ipynb,py"
  },
  "kernelspec": {
   "display_name": "edu_venv",
   "language": "python",
   "name": "edu_venv"
  },
  "language_info": {
   "codemirror_mode": {
    "name": "ipython",
    "version": 3
   },
   "file_extension": ".py",
   "mimetype": "text/x-python",
   "name": "python",
   "nbconvert_exporter": "python",
   "pygments_lexer": "ipython3",
   "version": "3.8.10"
  }
 },
 "nbformat": 4,
 "nbformat_minor": 2
}
