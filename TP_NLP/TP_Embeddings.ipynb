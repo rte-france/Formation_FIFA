{
  "cells": [
    {
      "cell_type": "markdown",
      "metadata": {
        "id": "LEJqSwyKyatS"
      },
      "source": [
        "# **TP Traitement automatique des langues**"
      ]
    },
    {
      "cell_type": "markdown",
      "metadata": {
        "id": "BEg4xb_zSTaE"
      },
      "source": [
        "## **Introduction**"
      ]
    },
    {
      "cell_type": "markdown",
      "metadata": {
        "id": "I6ysGrYQyibi"
      },
      "source": [
        "Le Traitement Automatique des Langues (**TAL**), *Natural Language Processing* (**NLP**)  en anglais, est un domaine multidisciplinaire impliquant la linguistique, l’informatique et l’intelligence artificielle qui vise à créer des outils de traitement de textes pour diverses applications.\n",
        "\n",
        "Les outils de TAL prennent généralement la forme d'algorithmes implémentés sur des ordinateurs. Ces derniers ne pouvant traiter que des opérations entre des nombres, l'une des problématiques majeures du domaine est la suivante :\n",
        "\n",
        "**Comment transformer des données textuelles en données numériques pour pouvoir les traiter automatiquement avec des ordinateurs ?**\n",
        "\n",
        "L'une des solutions à cette problématique réside dans une notion au coeur du TAL moderne : le **plongement lexical**, *word embedding* en anglais.\n",
        "\n",
        "L'embedding d'un mot est une manière de le représenter sous la forme d'un vecteur de nombres réels. La propriété principale de cette représentation vectorielle est que deux mots qui apparaissent dans des contextes similaires doivent être représentés par des embeddings proches. Par exemple :\n",
        "\n",
        "![word_embedding_illustration.png](data:image/png;base64,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)\n",
        "\n",
        "\n",
        "Une fois un texte transformé en une suite d'embeddings, il est possible de réaliser une multitude de tâches : classification de texte, anaylse de sentiment, génération de texte, traduction... La majorité des outils modernes de TAL (dont ChatGPT, Mistral...) utilise cette représentation des mots sous forme d'embedding.\n",
        "\n",
        "---\n",
        "\n",
        "**L'objectif de ce TP est d'explorer la notion d'embedding et d'appliquer les concepts de base pour implémenter un moteur de recherche sémantique pour vos documents.**\n",
        "\n",
        "---\n",
        "\n"
      ]
    },
    {
      "cell_type": "markdown",
      "metadata": {
        "id": "L2SGVlxK02ms"
      },
      "source": [
        "## **0. Installations, imports et définition de fonctions**"
      ]
    },
    {
      "cell_type": "markdown",
      "metadata": {},
      "source": [
        "### Installations"
      ]
    },
    {
      "cell_type": "code",
      "execution_count": null,
      "metadata": {
        "id": "Dn0BUaJui6-D"
      },
      "outputs": [],
      "source": [
        "# Install dependencies\n",
        "%pip install --no-deps sentence-transformers\n",
        "%pip install langchain_text_splitters\n",
        "%pip install langchain_community\n",
        "%pip install pdfminer.six"
      ]
    },
    {
      "cell_type": "markdown",
      "metadata": {},
      "source": [
        "### Imports"
      ]
    },
    {
      "cell_type": "code",
      "execution_count": 9,
      "metadata": {
        "id": "0dhSJAuai4Ly"
      },
      "outputs": [],
      "source": [
        "import numpy as np\n",
        "import pandas as pd\n",
        "from typing import List\n",
        "\n",
        "from sklearn.metrics.pairwise import cosine_similarity\n",
        "from sklearn.decomposition import PCA\n",
        "\n",
        "import plotly.express as px\n",
        "from plotly.graph_objs._figure import Figure\n",
        "\n",
        "from sentence_transformers import SentenceTransformer\n",
        "\n",
        "from langchain_text_splitters import RecursiveCharacterTextSplitter\n",
        "from langchain_community.document_loaders import PDFMinerLoader"
      ]
    },
    {
      "cell_type": "markdown",
      "metadata": {},
      "source": [
        "### Définition des fonctions"
      ]
    },
    {
      "cell_type": "code",
      "execution_count": 48,
      "metadata": {
        "id": "BAlmDX1ibn4b"
      },
      "outputs": [],
      "source": [
        "def plot_embeddings(sentences: List[str], embeddings: np.ndarray) -> Figure:\n",
        "    \"\"\"\n",
        "    Function to plot word embeddings in a 2D reduced space.\n",
        "    Uses PCA algorithm to reduce dimension.\n",
        "    \"\"\"\n",
        "    # Reduce embeddings dimension to plot it on a 2D graph\n",
        "    pca = PCA(n_components=2)\n",
        "    reduced_embeddings = pca.fit_transform(embeddings)\n",
        "\n",
        "    # Get x and y coordinates\n",
        "    x_coords = [point[0] for point in reduced_embeddings]\n",
        "    y_coords = [point[1] for point in reduced_embeddings]\n",
        "\n",
        "    # Plot embeddings using Plotly scatterplot\n",
        "    df = pd.DataFrame({'x': x_coords, 'y': y_coords, 'text': sentences})\n",
        "    fig = px.scatter(df, x=\"x\", y=\"y\", hover_name='text', hover_data={'x': False, 'y': False})\n",
        "    fig.update_xaxes(zeroline=True, zerolinewidth=2, zerolinecolor='black')\n",
        "    fig.update_yaxes(zeroline=True, zerolinewidth=2, zerolinecolor='black')\n",
        "\n",
        "    return fig"
      ]
    },
    {
      "cell_type": "code",
      "execution_count": 4,
      "metadata": {
        "id": "HBTqGV7-brxj"
      },
      "outputs": [],
      "source": [
        "def get_text_chunks(file_path: str, chunk_size: int =200, chunk_overlap: int = 20) -> List[str]:\n",
        "    \"\"\"\n",
        "    Function to chunk a pdf file into smaller text extracts.\n",
        "    \"\"\"\n",
        "    # Parse PDF\n",
        "    loader = PDFMinerLoader(file_path)\n",
        "    full_text = loader.load()[0].page_content\n",
        "\n",
        "    # Chunk it\n",
        "    text_splitter = RecursiveCharacterTextSplitter(\n",
        "        chunk_size=chunk_size,\n",
        "        chunk_overlap=chunk_overlap,\n",
        "        length_function=len,\n",
        "        )\n",
        "    splits = text_splitter.create_documents([full_text])\n",
        "    chunks = [split.page_content for split in splits]\n",
        "    return chunks"
      ]
    },
    {
      "cell_type": "markdown",
      "metadata": {
        "id": "mAAgU1mQ0PGZ"
      },
      "source": [
        "## **1. Découverte de HuggingFace 🤗**"
      ]
    },
    {
      "cell_type": "markdown",
      "metadata": {
        "id": "nZVXWkZjSPHn"
      },
      "source": [
        "HuggingFace 🤗 est une plate-forme permettant le partage de modèles, de données et de code dans le domaine du TAL, et plus marginalement dans d'autres domaines de l'apprentissage automatique (vision par ordinateur, apprentissage par renforcement). Le site permet à n'importe qui (du simple utilisateur aux grandes entreprises comme Meta ou Mistral) de partager son travail pour qu'il soit utilisable par la communauté.\n",
        "\n",
        "Aujourd'hui, quand on commence un projet impliquant du TAL, il est rare de devoir implémenter un modèle depuis zéro. Une bonne pratique est d'explorer HuggingFace pour vérifier s'il n'existe pas des modèles en lien avec la problématique que l'on essaie de résoudre.\n",
        "\n",
        "**Pour créer notre moteur de recherche sémantique, l'objectif est de pouvoir comparer la requête d'un utilisateur avec des documents pour trouver les plus proches sémantiquement**. Comme nous voulons comparer deux textes et non uniquement deux mots, nous allons avoir besoin d'un modèle qui permette de calculer un embedding unique pour un texte de plusieurs mots. Ces modèles s'appellent des **modèles de similarité de phrase**, *sentence similarity* en anglais."
      ]
    },
    {
      "cell_type": "markdown",
      "metadata": {
        "id": "XfbSyZgdnI7I"
      },
      "source": [
        "### Tâche 1"
      ]
    },
    {
      "cell_type": "markdown",
      "metadata": {
        "id": "Tez3N4rtDUOw"
      },
      "source": [
        "---\n",
        "**Trouvez un modèle de similarité de phrase français sur HuggingFace.**\n",
        "\n",
        "* Rendez-vous sur le site HuggingFace : [https://huggingface.co/](https://huggingface.co/)\n",
        "* Explorez les modèles disponibles dans la page *models*\n",
        "* Trouvez un modèle qui correspond aux caractéristiques suivantes :\n",
        "    * entraîné sur une tâche de similarité de phrase (*sentence similarity*)\n",
        "    * utilisable sur des textes en langue française\n",
        "\n",
        "---"
      ]
    },
    {
      "cell_type": "markdown",
      "metadata": {},
      "source": [
        "#### Solution"
      ]
    },
    {
      "cell_type": "markdown",
      "metadata": {},
      "source": [
        "Les modèles peuvent être trouvés à l'adresse suivante :\n",
        "\n",
        "https://huggingface.co/models?pipeline_tag=sentence-similarity&language=fr&sort=trending"
      ]
    },
    {
      "cell_type": "markdown",
      "metadata": {
        "id": "X_sebRawHfOQ"
      },
      "source": [
        "## **2. Chargement et exploration du modèle**"
      ]
    },
    {
      "cell_type": "markdown",
      "metadata": {
        "id": "7UWYcSvCyS3x"
      },
      "source": [
        "Dans la suite, nous utilisons le modèle `sentence-transformers/paraphrase-multilingual-MiniLM-L12-v2`.\n",
        "\n",
        "Libre à vous d'utiliser le modèle de votre choix !\n",
        "\n",
        "Pour charger le modèle, on utilise la librairie [SentenceTransformers](https://www.sbert.net/) qui facilite l'utilisation des modèles de similarité de phrase."
      ]
    },
    {
      "cell_type": "code",
      "execution_count": 5,
      "metadata": {
        "id": "UdYOOzdmj1jd"
      },
      "outputs": [],
      "source": [
        "# Charge default model\n",
        "model_name = 'sentence-transformers/paraphrase-multilingual-MiniLM-L12-v2'\n",
        "model = SentenceTransformer(model_name)"
      ]
    },
    {
      "cell_type": "markdown",
      "metadata": {
        "id": "GsXKAdO2JGTc"
      },
      "source": [
        "### Tokenizer"
      ]
    },
    {
      "cell_type": "markdown",
      "metadata": {
        "id": "NbsuGoXfy4xP"
      },
      "source": [
        "Les modèles de langages ne traitent pas une séquence de mots mais une séquence de tokens. Un token peut représenter un mot, une partie de mot, un caractère unique, un signe de ponctuation, un caractère spécial...\n",
        "\n",
        "Cette représentation en token permet d'avoir une plus grande flexibilité dans la représentation des mots et de mieux traiter les mots que le modèle n'a jamais vu pendant son entraînement."
      ]
    },
    {
      "cell_type": "code",
      "execution_count": null,
      "metadata": {
        "colab": {
          "base_uri": "https://localhost:8080/"
        },
        "id": "w8y1P0OCJIYb",
        "outputId": "e3246e7a-6650-41d7-ee70-7a82a421473b"
      },
      "outputs": [],
      "source": [
        "sentence = \"RTE est le gestionnaire du réseau de transport d'électricité.\"\n",
        "\n",
        "# Tokenize the sentence\n",
        "tokenized = model.tokenizer.tokenize(sentence)\n",
        "\n",
        "# Print each token\n",
        "print(\" | \".join(tokenized))"
      ]
    },
    {
      "cell_type": "markdown",
      "metadata": {
        "id": "a8mbPPMiKneJ"
      },
      "source": [
        "### Modèle"
      ]
    },
    {
      "cell_type": "markdown",
      "metadata": {
        "id": "YSIX5aai0ToT"
      },
      "source": [
        "Calculer l'embedding d'une phrase avec notre modèle se fait simplement :"
      ]
    },
    {
      "cell_type": "code",
      "execution_count": null,
      "metadata": {
        "colab": {
          "base_uri": "https://localhost:8080/"
        },
        "id": "d-qx2dz7Ks0R",
        "outputId": "b7cff932-2c9d-49a2-9326-d48c05f3dc98"
      },
      "outputs": [],
      "source": [
        "sentence = \"RTE est le gestionnaire du réseau de transport d'électricité.\"\n",
        "\n",
        "# Embed the sentence using the model\n",
        "embedding = model.encode(sentence)\n",
        "\n",
        "# Print info about the embedding\n",
        "print(f\"Dimension d'embedding : {len(embedding)}\")\n",
        "print(f\"Embedding est de type : {type(embedding)}\")\n",
        "print(f\"Embedding : {embedding[0:5]}...\")"
      ]
    },
    {
      "cell_type": "markdown",
      "metadata": {
        "id": "16gY3ARZnRsw"
      },
      "source": [
        "### Tâche 2"
      ]
    },
    {
      "cell_type": "markdown",
      "metadata": {
        "id": "QIX2u_fqdNZ-"
      },
      "source": [
        "---\n",
        "\n",
        "**Calculez le score de similarité entre 2 phrases.**\n",
        "\n",
        "* Définissez deux phrases\n",
        "* Calculez leur embedding en utilisant le modèle\n",
        "* Calculez le score de similarité entre les deux embeddings\n",
        "\n",
        "La fonction de distance utilisée sera la similarité cosinus. Vous pourrez utiliser la fonction [`cosine_similarity`](https://scikit-learn.org/stable/modules/generated/sklearn.metrics.pairwise.cosine_similarity.html) du package scikit-learn :\n",
        "\n",
        "```\n",
        "vector_1 = np.array([1,2,3])\n",
        "vector_2 = np.array([4,5,6])\n",
        "\n",
        "similarity_score = cosine_similarity([vector_1], [vector_2])\n",
        "```\n",
        "\n",
        "---\n",
        "\n",
        "\n",
        "\n"
      ]
    },
    {
      "cell_type": "code",
      "execution_count": null,
      "metadata": {
        "id": "s7v28HTufymu"
      },
      "outputs": [],
      "source": [
        "# Votre code\n"
      ]
    },
    {
      "cell_type": "markdown",
      "metadata": {
        "id": "xg4NRnQseyMj"
      },
      "source": [
        "#### Aide"
      ]
    },
    {
      "cell_type": "markdown",
      "metadata": {
        "id": "RHosMo00ffx1"
      },
      "source": [
        "```\n",
        "# Define 2 sentences\n",
        "sentences = [\n",
        "    \"...\",\n",
        "    \"...\",\n",
        "]\n",
        "\n",
        "# Compute embeddings using model\n",
        "embeddings = ...\n",
        "\n",
        "# Compute similarity using cosine_similarity\n",
        "similarity_score = ...\n",
        "\n",
        "# Print result\n",
        "print(f\"Similarité entre les deux phrases : {similarity_score.squeeze():.2f}\")\n",
        "```\n",
        "\n"
      ]
    },
    {
      "cell_type": "markdown",
      "metadata": {
        "id": "r7AvnWvwftWq"
      },
      "source": [
        "#### Solution"
      ]
    },
    {
      "cell_type": "code",
      "execution_count": 7,
      "metadata": {
        "colab": {
          "base_uri": "https://localhost:8080/"
        },
        "id": "UycBz8DwObzt",
        "outputId": "f27bad11-19fd-451b-fa84-d5a40d385e60"
      },
      "outputs": [
        {
          "name": "stdout",
          "output_type": "stream",
          "text": [
            "Similarité entre les deux phrases : 0.53\n"
          ]
        }
      ],
      "source": [
        "# Define 2 sentences\n",
        "sentences = [\n",
        "    \"RTE est le gestionnaire du réseau de transport d'électricité.\",\n",
        "    \"L'équilibre entre l'offre et la demande d'électricité est une mission du GRT.\"\n",
        "]\n",
        "\n",
        "# Compute embeddings using model\n",
        "embeddings = model.encode(sentences)\n",
        "\n",
        "# Compute similarity using cosine_similarity\n",
        "similarity_score = cosine_similarity([embeddings[0]], [embeddings[1]])\n",
        "\n",
        "# Print result\n",
        "print(f\"Similarité entre les deux phrases : {similarity_score.squeeze():.2f}\")"
      ]
    },
    {
      "cell_type": "markdown",
      "metadata": {
        "id": "FxCBkV03mtuQ"
      },
      "source": [
        "### Représentation graphique des embeddings"
      ]
    },
    {
      "cell_type": "markdown",
      "metadata": {
        "id": "YgRt9oCp0y68"
      },
      "source": [
        "Le modèle de similarité de phrase génère des embeddings proches dans l'espace vectoriel pour les phrases sémantiquement proches.\n",
        "\n",
        "On peut le vérifier en affichant les embeddings dans un espace de dimension 2D."
      ]
    },
    {
      "cell_type": "code",
      "execution_count": 49,
      "metadata": {
        "colab": {
          "base_uri": "https://localhost:8080/",
          "height": 542
        },
        "id": "6yoJePVKi-xj",
        "outputId": "a65eb8d0-c252-4ef9-944a-22d20be17517"
      },
      "outputs": [
        {
          "data": {
            "application/vnd.plotly.v1+json": {
              "config": {
                "plotlyServerURL": "https://plot.ly"
              },
              "data": [
                {
                  "hovertemplate": "<b>%{hovertext}</b><br><br><extra></extra>",
                  "hovertext": [
                    "RTE est le gestionnaire du réseau de transport d'électricité.",
                    "L'équilibre entre l'offre et la demande d'électricité est une mission du GRT.",
                    "Un embedding est une représentation vectorielle d'un mot.",
                    "Les modèles Transformers utilisent les embeddings pour réaliser des calculs avec des mots.",
                    "La recette des crêpes est très simple !"
                  ],
                  "legendgroup": "",
                  "marker": {
                    "color": "#636efa",
                    "symbol": "circle"
                  },
                  "mode": "markers",
                  "name": "",
                  "orientation": "v",
                  "showlegend": false,
                  "type": "scatter",
                  "x": [
                    -1.9342693,
                    -2.0326853,
                    -0.39457494,
                    0.28072664,
                    4.080801
                  ],
                  "xaxis": "x",
                  "y": [
                    -1.3810877,
                    -1.9444305,
                    2.4763904,
                    2.3978002,
                    -1.5486697
                  ],
                  "yaxis": "y"
                }
              ],
              "layout": {
                "legend": {
                  "tracegroupgap": 0
                },
                "margin": {
                  "t": 60
                },
                "template": {
                  "data": {
                    "bar": [
                      {
                        "error_x": {
                          "color": "#2a3f5f"
                        },
                        "error_y": {
                          "color": "#2a3f5f"
                        },
                        "marker": {
                          "line": {
                            "color": "#E5ECF6",
                            "width": 0.5
                          },
                          "pattern": {
                            "fillmode": "overlay",
                            "size": 10,
                            "solidity": 0.2
                          }
                        },
                        "type": "bar"
                      }
                    ],
                    "barpolar": [
                      {
                        "marker": {
                          "line": {
                            "color": "#E5ECF6",
                            "width": 0.5
                          },
                          "pattern": {
                            "fillmode": "overlay",
                            "size": 10,
                            "solidity": 0.2
                          }
                        },
                        "type": "barpolar"
                      }
                    ],
                    "carpet": [
                      {
                        "aaxis": {
                          "endlinecolor": "#2a3f5f",
                          "gridcolor": "white",
                          "linecolor": "white",
                          "minorgridcolor": "white",
                          "startlinecolor": "#2a3f5f"
                        },
                        "baxis": {
                          "endlinecolor": "#2a3f5f",
                          "gridcolor": "white",
                          "linecolor": "white",
                          "minorgridcolor": "white",
                          "startlinecolor": "#2a3f5f"
                        },
                        "type": "carpet"
                      }
                    ],
                    "choropleth": [
                      {
                        "colorbar": {
                          "outlinewidth": 0,
                          "ticks": ""
                        },
                        "type": "choropleth"
                      }
                    ],
                    "contour": [
                      {
                        "colorbar": {
                          "outlinewidth": 0,
                          "ticks": ""
                        },
                        "colorscale": [
                          [
                            0,
                            "#0d0887"
                          ],
                          [
                            0.1111111111111111,
                            "#46039f"
                          ],
                          [
                            0.2222222222222222,
                            "#7201a8"
                          ],
                          [
                            0.3333333333333333,
                            "#9c179e"
                          ],
                          [
                            0.4444444444444444,
                            "#bd3786"
                          ],
                          [
                            0.5555555555555556,
                            "#d8576b"
                          ],
                          [
                            0.6666666666666666,
                            "#ed7953"
                          ],
                          [
                            0.7777777777777778,
                            "#fb9f3a"
                          ],
                          [
                            0.8888888888888888,
                            "#fdca26"
                          ],
                          [
                            1,
                            "#f0f921"
                          ]
                        ],
                        "type": "contour"
                      }
                    ],
                    "contourcarpet": [
                      {
                        "colorbar": {
                          "outlinewidth": 0,
                          "ticks": ""
                        },
                        "type": "contourcarpet"
                      }
                    ],
                    "heatmap": [
                      {
                        "colorbar": {
                          "outlinewidth": 0,
                          "ticks": ""
                        },
                        "colorscale": [
                          [
                            0,
                            "#0d0887"
                          ],
                          [
                            0.1111111111111111,
                            "#46039f"
                          ],
                          [
                            0.2222222222222222,
                            "#7201a8"
                          ],
                          [
                            0.3333333333333333,
                            "#9c179e"
                          ],
                          [
                            0.4444444444444444,
                            "#bd3786"
                          ],
                          [
                            0.5555555555555556,
                            "#d8576b"
                          ],
                          [
                            0.6666666666666666,
                            "#ed7953"
                          ],
                          [
                            0.7777777777777778,
                            "#fb9f3a"
                          ],
                          [
                            0.8888888888888888,
                            "#fdca26"
                          ],
                          [
                            1,
                            "#f0f921"
                          ]
                        ],
                        "type": "heatmap"
                      }
                    ],
                    "heatmapgl": [
                      {
                        "colorbar": {
                          "outlinewidth": 0,
                          "ticks": ""
                        },
                        "colorscale": [
                          [
                            0,
                            "#0d0887"
                          ],
                          [
                            0.1111111111111111,
                            "#46039f"
                          ],
                          [
                            0.2222222222222222,
                            "#7201a8"
                          ],
                          [
                            0.3333333333333333,
                            "#9c179e"
                          ],
                          [
                            0.4444444444444444,
                            "#bd3786"
                          ],
                          [
                            0.5555555555555556,
                            "#d8576b"
                          ],
                          [
                            0.6666666666666666,
                            "#ed7953"
                          ],
                          [
                            0.7777777777777778,
                            "#fb9f3a"
                          ],
                          [
                            0.8888888888888888,
                            "#fdca26"
                          ],
                          [
                            1,
                            "#f0f921"
                          ]
                        ],
                        "type": "heatmapgl"
                      }
                    ],
                    "histogram": [
                      {
                        "marker": {
                          "pattern": {
                            "fillmode": "overlay",
                            "size": 10,
                            "solidity": 0.2
                          }
                        },
                        "type": "histogram"
                      }
                    ],
                    "histogram2d": [
                      {
                        "colorbar": {
                          "outlinewidth": 0,
                          "ticks": ""
                        },
                        "colorscale": [
                          [
                            0,
                            "#0d0887"
                          ],
                          [
                            0.1111111111111111,
                            "#46039f"
                          ],
                          [
                            0.2222222222222222,
                            "#7201a8"
                          ],
                          [
                            0.3333333333333333,
                            "#9c179e"
                          ],
                          [
                            0.4444444444444444,
                            "#bd3786"
                          ],
                          [
                            0.5555555555555556,
                            "#d8576b"
                          ],
                          [
                            0.6666666666666666,
                            "#ed7953"
                          ],
                          [
                            0.7777777777777778,
                            "#fb9f3a"
                          ],
                          [
                            0.8888888888888888,
                            "#fdca26"
                          ],
                          [
                            1,
                            "#f0f921"
                          ]
                        ],
                        "type": "histogram2d"
                      }
                    ],
                    "histogram2dcontour": [
                      {
                        "colorbar": {
                          "outlinewidth": 0,
                          "ticks": ""
                        },
                        "colorscale": [
                          [
                            0,
                            "#0d0887"
                          ],
                          [
                            0.1111111111111111,
                            "#46039f"
                          ],
                          [
                            0.2222222222222222,
                            "#7201a8"
                          ],
                          [
                            0.3333333333333333,
                            "#9c179e"
                          ],
                          [
                            0.4444444444444444,
                            "#bd3786"
                          ],
                          [
                            0.5555555555555556,
                            "#d8576b"
                          ],
                          [
                            0.6666666666666666,
                            "#ed7953"
                          ],
                          [
                            0.7777777777777778,
                            "#fb9f3a"
                          ],
                          [
                            0.8888888888888888,
                            "#fdca26"
                          ],
                          [
                            1,
                            "#f0f921"
                          ]
                        ],
                        "type": "histogram2dcontour"
                      }
                    ],
                    "mesh3d": [
                      {
                        "colorbar": {
                          "outlinewidth": 0,
                          "ticks": ""
                        },
                        "type": "mesh3d"
                      }
                    ],
                    "parcoords": [
                      {
                        "line": {
                          "colorbar": {
                            "outlinewidth": 0,
                            "ticks": ""
                          }
                        },
                        "type": "parcoords"
                      }
                    ],
                    "pie": [
                      {
                        "automargin": true,
                        "type": "pie"
                      }
                    ],
                    "scatter": [
                      {
                        "fillpattern": {
                          "fillmode": "overlay",
                          "size": 10,
                          "solidity": 0.2
                        },
                        "type": "scatter"
                      }
                    ],
                    "scatter3d": [
                      {
                        "line": {
                          "colorbar": {
                            "outlinewidth": 0,
                            "ticks": ""
                          }
                        },
                        "marker": {
                          "colorbar": {
                            "outlinewidth": 0,
                            "ticks": ""
                          }
                        },
                        "type": "scatter3d"
                      }
                    ],
                    "scattercarpet": [
                      {
                        "marker": {
                          "colorbar": {
                            "outlinewidth": 0,
                            "ticks": ""
                          }
                        },
                        "type": "scattercarpet"
                      }
                    ],
                    "scattergeo": [
                      {
                        "marker": {
                          "colorbar": {
                            "outlinewidth": 0,
                            "ticks": ""
                          }
                        },
                        "type": "scattergeo"
                      }
                    ],
                    "scattergl": [
                      {
                        "marker": {
                          "colorbar": {
                            "outlinewidth": 0,
                            "ticks": ""
                          }
                        },
                        "type": "scattergl"
                      }
                    ],
                    "scattermapbox": [
                      {
                        "marker": {
                          "colorbar": {
                            "outlinewidth": 0,
                            "ticks": ""
                          }
                        },
                        "type": "scattermapbox"
                      }
                    ],
                    "scatterpolar": [
                      {
                        "marker": {
                          "colorbar": {
                            "outlinewidth": 0,
                            "ticks": ""
                          }
                        },
                        "type": "scatterpolar"
                      }
                    ],
                    "scatterpolargl": [
                      {
                        "marker": {
                          "colorbar": {
                            "outlinewidth": 0,
                            "ticks": ""
                          }
                        },
                        "type": "scatterpolargl"
                      }
                    ],
                    "scatterternary": [
                      {
                        "marker": {
                          "colorbar": {
                            "outlinewidth": 0,
                            "ticks": ""
                          }
                        },
                        "type": "scatterternary"
                      }
                    ],
                    "surface": [
                      {
                        "colorbar": {
                          "outlinewidth": 0,
                          "ticks": ""
                        },
                        "colorscale": [
                          [
                            0,
                            "#0d0887"
                          ],
                          [
                            0.1111111111111111,
                            "#46039f"
                          ],
                          [
                            0.2222222222222222,
                            "#7201a8"
                          ],
                          [
                            0.3333333333333333,
                            "#9c179e"
                          ],
                          [
                            0.4444444444444444,
                            "#bd3786"
                          ],
                          [
                            0.5555555555555556,
                            "#d8576b"
                          ],
                          [
                            0.6666666666666666,
                            "#ed7953"
                          ],
                          [
                            0.7777777777777778,
                            "#fb9f3a"
                          ],
                          [
                            0.8888888888888888,
                            "#fdca26"
                          ],
                          [
                            1,
                            "#f0f921"
                          ]
                        ],
                        "type": "surface"
                      }
                    ],
                    "table": [
                      {
                        "cells": {
                          "fill": {
                            "color": "#EBF0F8"
                          },
                          "line": {
                            "color": "white"
                          }
                        },
                        "header": {
                          "fill": {
                            "color": "#C8D4E3"
                          },
                          "line": {
                            "color": "white"
                          }
                        },
                        "type": "table"
                      }
                    ]
                  },
                  "layout": {
                    "annotationdefaults": {
                      "arrowcolor": "#2a3f5f",
                      "arrowhead": 0,
                      "arrowwidth": 1
                    },
                    "autotypenumbers": "strict",
                    "coloraxis": {
                      "colorbar": {
                        "outlinewidth": 0,
                        "ticks": ""
                      }
                    },
                    "colorscale": {
                      "diverging": [
                        [
                          0,
                          "#8e0152"
                        ],
                        [
                          0.1,
                          "#c51b7d"
                        ],
                        [
                          0.2,
                          "#de77ae"
                        ],
                        [
                          0.3,
                          "#f1b6da"
                        ],
                        [
                          0.4,
                          "#fde0ef"
                        ],
                        [
                          0.5,
                          "#f7f7f7"
                        ],
                        [
                          0.6,
                          "#e6f5d0"
                        ],
                        [
                          0.7,
                          "#b8e186"
                        ],
                        [
                          0.8,
                          "#7fbc41"
                        ],
                        [
                          0.9,
                          "#4d9221"
                        ],
                        [
                          1,
                          "#276419"
                        ]
                      ],
                      "sequential": [
                        [
                          0,
                          "#0d0887"
                        ],
                        [
                          0.1111111111111111,
                          "#46039f"
                        ],
                        [
                          0.2222222222222222,
                          "#7201a8"
                        ],
                        [
                          0.3333333333333333,
                          "#9c179e"
                        ],
                        [
                          0.4444444444444444,
                          "#bd3786"
                        ],
                        [
                          0.5555555555555556,
                          "#d8576b"
                        ],
                        [
                          0.6666666666666666,
                          "#ed7953"
                        ],
                        [
                          0.7777777777777778,
                          "#fb9f3a"
                        ],
                        [
                          0.8888888888888888,
                          "#fdca26"
                        ],
                        [
                          1,
                          "#f0f921"
                        ]
                      ],
                      "sequentialminus": [
                        [
                          0,
                          "#0d0887"
                        ],
                        [
                          0.1111111111111111,
                          "#46039f"
                        ],
                        [
                          0.2222222222222222,
                          "#7201a8"
                        ],
                        [
                          0.3333333333333333,
                          "#9c179e"
                        ],
                        [
                          0.4444444444444444,
                          "#bd3786"
                        ],
                        [
                          0.5555555555555556,
                          "#d8576b"
                        ],
                        [
                          0.6666666666666666,
                          "#ed7953"
                        ],
                        [
                          0.7777777777777778,
                          "#fb9f3a"
                        ],
                        [
                          0.8888888888888888,
                          "#fdca26"
                        ],
                        [
                          1,
                          "#f0f921"
                        ]
                      ]
                    },
                    "colorway": [
                      "#636efa",
                      "#EF553B",
                      "#00cc96",
                      "#ab63fa",
                      "#FFA15A",
                      "#19d3f3",
                      "#FF6692",
                      "#B6E880",
                      "#FF97FF",
                      "#FECB52"
                    ],
                    "font": {
                      "color": "#2a3f5f"
                    },
                    "geo": {
                      "bgcolor": "white",
                      "lakecolor": "white",
                      "landcolor": "#E5ECF6",
                      "showlakes": true,
                      "showland": true,
                      "subunitcolor": "white"
                    },
                    "hoverlabel": {
                      "align": "left"
                    },
                    "hovermode": "closest",
                    "mapbox": {
                      "style": "light"
                    },
                    "paper_bgcolor": "white",
                    "plot_bgcolor": "#E5ECF6",
                    "polar": {
                      "angularaxis": {
                        "gridcolor": "white",
                        "linecolor": "white",
                        "ticks": ""
                      },
                      "bgcolor": "#E5ECF6",
                      "radialaxis": {
                        "gridcolor": "white",
                        "linecolor": "white",
                        "ticks": ""
                      }
                    },
                    "scene": {
                      "xaxis": {
                        "backgroundcolor": "#E5ECF6",
                        "gridcolor": "white",
                        "gridwidth": 2,
                        "linecolor": "white",
                        "showbackground": true,
                        "ticks": "",
                        "zerolinecolor": "white"
                      },
                      "yaxis": {
                        "backgroundcolor": "#E5ECF6",
                        "gridcolor": "white",
                        "gridwidth": 2,
                        "linecolor": "white",
                        "showbackground": true,
                        "ticks": "",
                        "zerolinecolor": "white"
                      },
                      "zaxis": {
                        "backgroundcolor": "#E5ECF6",
                        "gridcolor": "white",
                        "gridwidth": 2,
                        "linecolor": "white",
                        "showbackground": true,
                        "ticks": "",
                        "zerolinecolor": "white"
                      }
                    },
                    "shapedefaults": {
                      "line": {
                        "color": "#2a3f5f"
                      }
                    },
                    "ternary": {
                      "aaxis": {
                        "gridcolor": "white",
                        "linecolor": "white",
                        "ticks": ""
                      },
                      "baxis": {
                        "gridcolor": "white",
                        "linecolor": "white",
                        "ticks": ""
                      },
                      "bgcolor": "#E5ECF6",
                      "caxis": {
                        "gridcolor": "white",
                        "linecolor": "white",
                        "ticks": ""
                      }
                    },
                    "title": {
                      "x": 0.05
                    },
                    "xaxis": {
                      "automargin": true,
                      "gridcolor": "white",
                      "linecolor": "white",
                      "ticks": "",
                      "title": {
                        "standoff": 15
                      },
                      "zerolinecolor": "white",
                      "zerolinewidth": 2
                    },
                    "yaxis": {
                      "automargin": true,
                      "gridcolor": "white",
                      "linecolor": "white",
                      "ticks": "",
                      "title": {
                        "standoff": 15
                      },
                      "zerolinecolor": "white",
                      "zerolinewidth": 2
                    }
                  }
                },
                "xaxis": {
                  "anchor": "y",
                  "domain": [
                    0,
                    1
                  ],
                  "title": {
                    "text": "x"
                  },
                  "zeroline": true,
                  "zerolinecolor": "black",
                  "zerolinewidth": 2
                },
                "yaxis": {
                  "anchor": "x",
                  "domain": [
                    0,
                    1
                  ],
                  "title": {
                    "text": "y"
                  },
                  "zeroline": true,
                  "zerolinecolor": "black",
                  "zerolinewidth": 2
                }
              }
            },
            "text/html": [
              "<div>                            <div id=\"22119166-eaae-4b22-b2b6-19faec6fe0e8\" class=\"plotly-graph-div\" style=\"height:525px; width:100%;\"></div>            <script type=\"text/javascript\">                require([\"plotly\"], function(Plotly) {                    window.PLOTLYENV=window.PLOTLYENV || {};                                    if (document.getElementById(\"22119166-eaae-4b22-b2b6-19faec6fe0e8\")) {                    Plotly.newPlot(                        \"22119166-eaae-4b22-b2b6-19faec6fe0e8\",                        [{\"hovertemplate\":\"\\u003cb\\u003e%{hovertext}\\u003c\\u002fb\\u003e\\u003cbr\\u003e\\u003cbr\\u003e\\u003cextra\\u003e\\u003c\\u002fextra\\u003e\",\"hovertext\":[\"RTE est le gestionnaire du réseau de transport d'électricité.\",\"L'équilibre entre l'offre et la demande d'électricité est une mission du GRT.\",\"Un embedding est une représentation vectorielle d'un mot.\",\"Les modèles Transformers utilisent les embeddings pour réaliser des calculs avec des mots.\",\"La recette des crêpes est très simple !\"],\"legendgroup\":\"\",\"marker\":{\"color\":\"#636efa\",\"symbol\":\"circle\"},\"mode\":\"markers\",\"name\":\"\",\"orientation\":\"v\",\"showlegend\":false,\"x\":[-1.9342693,-2.0326853,-0.39457494,0.28072664,4.080801],\"xaxis\":\"x\",\"y\":[-1.3810877,-1.9444305,2.4763904,2.3978002,-1.5486697],\"yaxis\":\"y\",\"type\":\"scatter\"}],                        {\"template\":{\"data\":{\"histogram2dcontour\":[{\"type\":\"histogram2dcontour\",\"colorbar\":{\"outlinewidth\":0,\"ticks\":\"\"},\"colorscale\":[[0.0,\"#0d0887\"],[0.1111111111111111,\"#46039f\"],[0.2222222222222222,\"#7201a8\"],[0.3333333333333333,\"#9c179e\"],[0.4444444444444444,\"#bd3786\"],[0.5555555555555556,\"#d8576b\"],[0.6666666666666666,\"#ed7953\"],[0.7777777777777778,\"#fb9f3a\"],[0.8888888888888888,\"#fdca26\"],[1.0,\"#f0f921\"]]}],\"choropleth\":[{\"type\":\"choropleth\",\"colorbar\":{\"outlinewidth\":0,\"ticks\":\"\"}}],\"histogram2d\":[{\"type\":\"histogram2d\",\"colorbar\":{\"outlinewidth\":0,\"ticks\":\"\"},\"colorscale\":[[0.0,\"#0d0887\"],[0.1111111111111111,\"#46039f\"],[0.2222222222222222,\"#7201a8\"],[0.3333333333333333,\"#9c179e\"],[0.4444444444444444,\"#bd3786\"],[0.5555555555555556,\"#d8576b\"],[0.6666666666666666,\"#ed7953\"],[0.7777777777777778,\"#fb9f3a\"],[0.8888888888888888,\"#fdca26\"],[1.0,\"#f0f921\"]]}],\"heatmap\":[{\"type\":\"heatmap\",\"colorbar\":{\"outlinewidth\":0,\"ticks\":\"\"},\"colorscale\":[[0.0,\"#0d0887\"],[0.1111111111111111,\"#46039f\"],[0.2222222222222222,\"#7201a8\"],[0.3333333333333333,\"#9c179e\"],[0.4444444444444444,\"#bd3786\"],[0.5555555555555556,\"#d8576b\"],[0.6666666666666666,\"#ed7953\"],[0.7777777777777778,\"#fb9f3a\"],[0.8888888888888888,\"#fdca26\"],[1.0,\"#f0f921\"]]}],\"heatmapgl\":[{\"type\":\"heatmapgl\",\"colorbar\":{\"outlinewidth\":0,\"ticks\":\"\"},\"colorscale\":[[0.0,\"#0d0887\"],[0.1111111111111111,\"#46039f\"],[0.2222222222222222,\"#7201a8\"],[0.3333333333333333,\"#9c179e\"],[0.4444444444444444,\"#bd3786\"],[0.5555555555555556,\"#d8576b\"],[0.6666666666666666,\"#ed7953\"],[0.7777777777777778,\"#fb9f3a\"],[0.8888888888888888,\"#fdca26\"],[1.0,\"#f0f921\"]]}],\"contourcarpet\":[{\"type\":\"contourcarpet\",\"colorbar\":{\"outlinewidth\":0,\"ticks\":\"\"}}],\"contour\":[{\"type\":\"contour\",\"colorbar\":{\"outlinewidth\":0,\"ticks\":\"\"},\"colorscale\":[[0.0,\"#0d0887\"],[0.1111111111111111,\"#46039f\"],[0.2222222222222222,\"#7201a8\"],[0.3333333333333333,\"#9c179e\"],[0.4444444444444444,\"#bd3786\"],[0.5555555555555556,\"#d8576b\"],[0.6666666666666666,\"#ed7953\"],[0.7777777777777778,\"#fb9f3a\"],[0.8888888888888888,\"#fdca26\"],[1.0,\"#f0f921\"]]}],\"surface\":[{\"type\":\"surface\",\"colorbar\":{\"outlinewidth\":0,\"ticks\":\"\"},\"colorscale\":[[0.0,\"#0d0887\"],[0.1111111111111111,\"#46039f\"],[0.2222222222222222,\"#7201a8\"],[0.3333333333333333,\"#9c179e\"],[0.4444444444444444,\"#bd3786\"],[0.5555555555555556,\"#d8576b\"],[0.6666666666666666,\"#ed7953\"],[0.7777777777777778,\"#fb9f3a\"],[0.8888888888888888,\"#fdca26\"],[1.0,\"#f0f921\"]]}],\"mesh3d\":[{\"type\":\"mesh3d\",\"colorbar\":{\"outlinewidth\":0,\"ticks\":\"\"}}],\"scatter\":[{\"fillpattern\":{\"fillmode\":\"overlay\",\"size\":10,\"solidity\":0.2},\"type\":\"scatter\"}],\"parcoords\":[{\"type\":\"parcoords\",\"line\":{\"colorbar\":{\"outlinewidth\":0,\"ticks\":\"\"}}}],\"scatterpolargl\":[{\"type\":\"scatterpolargl\",\"marker\":{\"colorbar\":{\"outlinewidth\":0,\"ticks\":\"\"}}}],\"bar\":[{\"error_x\":{\"color\":\"#2a3f5f\"},\"error_y\":{\"color\":\"#2a3f5f\"},\"marker\":{\"line\":{\"color\":\"#E5ECF6\",\"width\":0.5},\"pattern\":{\"fillmode\":\"overlay\",\"size\":10,\"solidity\":0.2}},\"type\":\"bar\"}],\"scattergeo\":[{\"type\":\"scattergeo\",\"marker\":{\"colorbar\":{\"outlinewidth\":0,\"ticks\":\"\"}}}],\"scatterpolar\":[{\"type\":\"scatterpolar\",\"marker\":{\"colorbar\":{\"outlinewidth\":0,\"ticks\":\"\"}}}],\"histogram\":[{\"marker\":{\"pattern\":{\"fillmode\":\"overlay\",\"size\":10,\"solidity\":0.2}},\"type\":\"histogram\"}],\"scattergl\":[{\"type\":\"scattergl\",\"marker\":{\"colorbar\":{\"outlinewidth\":0,\"ticks\":\"\"}}}],\"scatter3d\":[{\"type\":\"scatter3d\",\"line\":{\"colorbar\":{\"outlinewidth\":0,\"ticks\":\"\"}},\"marker\":{\"colorbar\":{\"outlinewidth\":0,\"ticks\":\"\"}}}],\"scattermapbox\":[{\"type\":\"scattermapbox\",\"marker\":{\"colorbar\":{\"outlinewidth\":0,\"ticks\":\"\"}}}],\"scatterternary\":[{\"type\":\"scatterternary\",\"marker\":{\"colorbar\":{\"outlinewidth\":0,\"ticks\":\"\"}}}],\"scattercarpet\":[{\"type\":\"scattercarpet\",\"marker\":{\"colorbar\":{\"outlinewidth\":0,\"ticks\":\"\"}}}],\"carpet\":[{\"aaxis\":{\"endlinecolor\":\"#2a3f5f\",\"gridcolor\":\"white\",\"linecolor\":\"white\",\"minorgridcolor\":\"white\",\"startlinecolor\":\"#2a3f5f\"},\"baxis\":{\"endlinecolor\":\"#2a3f5f\",\"gridcolor\":\"white\",\"linecolor\":\"white\",\"minorgridcolor\":\"white\",\"startlinecolor\":\"#2a3f5f\"},\"type\":\"carpet\"}],\"table\":[{\"cells\":{\"fill\":{\"color\":\"#EBF0F8\"},\"line\":{\"color\":\"white\"}},\"header\":{\"fill\":{\"color\":\"#C8D4E3\"},\"line\":{\"color\":\"white\"}},\"type\":\"table\"}],\"barpolar\":[{\"marker\":{\"line\":{\"color\":\"#E5ECF6\",\"width\":0.5},\"pattern\":{\"fillmode\":\"overlay\",\"size\":10,\"solidity\":0.2}},\"type\":\"barpolar\"}],\"pie\":[{\"automargin\":true,\"type\":\"pie\"}]},\"layout\":{\"autotypenumbers\":\"strict\",\"colorway\":[\"#636efa\",\"#EF553B\",\"#00cc96\",\"#ab63fa\",\"#FFA15A\",\"#19d3f3\",\"#FF6692\",\"#B6E880\",\"#FF97FF\",\"#FECB52\"],\"font\":{\"color\":\"#2a3f5f\"},\"hovermode\":\"closest\",\"hoverlabel\":{\"align\":\"left\"},\"paper_bgcolor\":\"white\",\"plot_bgcolor\":\"#E5ECF6\",\"polar\":{\"bgcolor\":\"#E5ECF6\",\"angularaxis\":{\"gridcolor\":\"white\",\"linecolor\":\"white\",\"ticks\":\"\"},\"radialaxis\":{\"gridcolor\":\"white\",\"linecolor\":\"white\",\"ticks\":\"\"}},\"ternary\":{\"bgcolor\":\"#E5ECF6\",\"aaxis\":{\"gridcolor\":\"white\",\"linecolor\":\"white\",\"ticks\":\"\"},\"baxis\":{\"gridcolor\":\"white\",\"linecolor\":\"white\",\"ticks\":\"\"},\"caxis\":{\"gridcolor\":\"white\",\"linecolor\":\"white\",\"ticks\":\"\"}},\"coloraxis\":{\"colorbar\":{\"outlinewidth\":0,\"ticks\":\"\"}},\"colorscale\":{\"sequential\":[[0.0,\"#0d0887\"],[0.1111111111111111,\"#46039f\"],[0.2222222222222222,\"#7201a8\"],[0.3333333333333333,\"#9c179e\"],[0.4444444444444444,\"#bd3786\"],[0.5555555555555556,\"#d8576b\"],[0.6666666666666666,\"#ed7953\"],[0.7777777777777778,\"#fb9f3a\"],[0.8888888888888888,\"#fdca26\"],[1.0,\"#f0f921\"]],\"sequentialminus\":[[0.0,\"#0d0887\"],[0.1111111111111111,\"#46039f\"],[0.2222222222222222,\"#7201a8\"],[0.3333333333333333,\"#9c179e\"],[0.4444444444444444,\"#bd3786\"],[0.5555555555555556,\"#d8576b\"],[0.6666666666666666,\"#ed7953\"],[0.7777777777777778,\"#fb9f3a\"],[0.8888888888888888,\"#fdca26\"],[1.0,\"#f0f921\"]],\"diverging\":[[0,\"#8e0152\"],[0.1,\"#c51b7d\"],[0.2,\"#de77ae\"],[0.3,\"#f1b6da\"],[0.4,\"#fde0ef\"],[0.5,\"#f7f7f7\"],[0.6,\"#e6f5d0\"],[0.7,\"#b8e186\"],[0.8,\"#7fbc41\"],[0.9,\"#4d9221\"],[1,\"#276419\"]]},\"xaxis\":{\"gridcolor\":\"white\",\"linecolor\":\"white\",\"ticks\":\"\",\"title\":{\"standoff\":15},\"zerolinecolor\":\"white\",\"automargin\":true,\"zerolinewidth\":2},\"yaxis\":{\"gridcolor\":\"white\",\"linecolor\":\"white\",\"ticks\":\"\",\"title\":{\"standoff\":15},\"zerolinecolor\":\"white\",\"automargin\":true,\"zerolinewidth\":2},\"scene\":{\"xaxis\":{\"backgroundcolor\":\"#E5ECF6\",\"gridcolor\":\"white\",\"linecolor\":\"white\",\"showbackground\":true,\"ticks\":\"\",\"zerolinecolor\":\"white\",\"gridwidth\":2},\"yaxis\":{\"backgroundcolor\":\"#E5ECF6\",\"gridcolor\":\"white\",\"linecolor\":\"white\",\"showbackground\":true,\"ticks\":\"\",\"zerolinecolor\":\"white\",\"gridwidth\":2},\"zaxis\":{\"backgroundcolor\":\"#E5ECF6\",\"gridcolor\":\"white\",\"linecolor\":\"white\",\"showbackground\":true,\"ticks\":\"\",\"zerolinecolor\":\"white\",\"gridwidth\":2}},\"shapedefaults\":{\"line\":{\"color\":\"#2a3f5f\"}},\"annotationdefaults\":{\"arrowcolor\":\"#2a3f5f\",\"arrowhead\":0,\"arrowwidth\":1},\"geo\":{\"bgcolor\":\"white\",\"landcolor\":\"#E5ECF6\",\"subunitcolor\":\"white\",\"showland\":true,\"showlakes\":true,\"lakecolor\":\"white\"},\"title\":{\"x\":0.05},\"mapbox\":{\"style\":\"light\"}}},\"xaxis\":{\"anchor\":\"y\",\"domain\":[0.0,1.0],\"title\":{\"text\":\"x\"},\"zeroline\":true,\"zerolinewidth\":2,\"zerolinecolor\":\"black\"},\"yaxis\":{\"anchor\":\"x\",\"domain\":[0.0,1.0],\"title\":{\"text\":\"y\"},\"zeroline\":true,\"zerolinewidth\":2,\"zerolinecolor\":\"black\"},\"legend\":{\"tracegroupgap\":0},\"margin\":{\"t\":60}},                        {\"responsive\": true}                    ).then(function(){\n",
              "                            \n",
              "var gd = document.getElementById('22119166-eaae-4b22-b2b6-19faec6fe0e8');\n",
              "var x = new MutationObserver(function (mutations, observer) {{\n",
              "        var display = window.getComputedStyle(gd).display;\n",
              "        if (!display || display === 'none') {{\n",
              "            console.log([gd, 'removed!']);\n",
              "            Plotly.purge(gd);\n",
              "            observer.disconnect();\n",
              "        }}\n",
              "}});\n",
              "\n",
              "// Listen for the removal of the full notebook cells\n",
              "var notebookContainer = gd.closest('#notebook-container');\n",
              "if (notebookContainer) {{\n",
              "    x.observe(notebookContainer, {childList: true});\n",
              "}}\n",
              "\n",
              "// Listen for the clearing of the current output cell\n",
              "var outputEl = gd.closest('.output');\n",
              "if (outputEl) {{\n",
              "    x.observe(outputEl, {childList: true});\n",
              "}}\n",
              "\n",
              "                        })                };                });            </script>        </div>"
            ]
          },
          "metadata": {},
          "output_type": "display_data"
        }
      ],
      "source": [
        "sentences = [\n",
        "    \"RTE est le gestionnaire du réseau de transport d'électricité.\",\n",
        "    \"L'équilibre entre l'offre et la demande d'électricité est une mission du GRT.\",\n",
        "    \"Un embedding est une représentation vectorielle d'un mot.\",\n",
        "    \"Les modèles Transformers utilisent les embeddings pour réaliser des calculs avec des mots.\",\n",
        "\t\"La recette des crêpes est très simple !\",\n",
        "]\n",
        "\n",
        "# Embed sentences\n",
        "embeddings = model.encode(sentences)\n",
        "\n",
        "# Plot embeddings in a 2D graph\n",
        "plot_embeddings(sentences, embeddings)"
      ]
    },
    {
      "cell_type": "markdown",
      "metadata": {
        "id": "ivG3Epn4QfH8"
      },
      "source": [
        "## **3. Application : recherche sémantique dans un document**"
      ]
    },
    {
      "cell_type": "markdown",
      "metadata": {
        "id": "2wW4cXz73DDm"
      },
      "source": [
        "Nous avons un modèle qui nous permet de calculer mathématiquement la similarité sémantique entre deux phrases. Cet outil peut nous permettre d'implémenter un moteur de recherche sémantique pour des documents :\n",
        "\n",
        "* les documents dans lesquels on souhaite chercher de l'information sont transformés en embeddings\n",
        "* l'utilisateur entre une requête textuelle\n",
        "* on calcule l'embedding de cette requête\n",
        "* on calcule la similarité sémantique entre la requête et chaque document\n",
        "* on retourne les documents les plus proches sémantiquement\n",
        "\n",
        "Ce principe est à la base de beaucoup de moteurs de recherche modernes (type Google)."
      ]
    },
    {
      "cell_type": "markdown",
      "metadata": {
        "id": "204GIIXPv9HS"
      },
      "source": [
        "### Tâche 3"
      ]
    },
    {
      "cell_type": "markdown",
      "metadata": {
        "id": "1YVHlub3wAEF"
      },
      "source": [
        "---\n",
        "\n",
        "**Utilisez le modèle pour chercher des informations par similarité sémantique dans un fichier PDF.**\n",
        "\n",
        "* Utilisez la fonction `get_text_chunks` pour parser le contenu textuel du fichier et le découper en extraits (*chunks*)\n",
        "* Utilisez le modèle pour calculer les embeddings de chaque extrait\n",
        "* Écrivez une question en calculez son embedding\n",
        "* Calculez la similarité entre chaque extrait et votre question\n",
        "* Affichez les extraits ayant les scores de similarité les plus élevés avec votre question\n",
        "\n",
        "---"
      ]
    },
    {
      "cell_type": "markdown",
      "metadata": {},
      "source": [
        "Pour réaliser le TP, le fichier utilisé par défaut est la synthèse du [Bilan électrique 2023](https://analysesetdonnees.rte-france.com/bilan-electrique-2023/synthese) publié par RTE.\n",
        "\n",
        "Vous pouvez essayer avec votre propre document (au format `.pdf`) en le téléchargeant dans Colab."
      ]
    },
    {
      "cell_type": "code",
      "execution_count": null,
      "metadata": {
        "colab": {
          "base_uri": "https://localhost:8080/"
        },
        "id": "SmniEVjFTOfR",
        "outputId": "f77714fc-0d60-4823-fd33-6e4badc0bdc8"
      },
      "outputs": [],
      "source": [
        "# Download an example pdf file\n",
        "!wget https://assets.rte-france.com/prod/public/2024-02/Bilan-electrique-2023-synthese.pdf"
      ]
    },
    {
      "cell_type": "code",
      "execution_count": null,
      "metadata": {
        "id": "QvgvRJ4kSsGb"
      },
      "outputs": [],
      "source": [
        "# Votre code\n"
      ]
    },
    {
      "cell_type": "markdown",
      "metadata": {
        "id": "yRZTas9N135Y"
      },
      "source": [
        "#### Aide"
      ]
    },
    {
      "cell_type": "markdown",
      "metadata": {
        "id": "jmckspfx2MwA"
      },
      "source": [
        "\n",
        "\n",
        "```\n",
        "# Parse textual content in file and chunk it\n",
        "file_path = \"./Bilan-electrique-2023-synthese.pdf\"\n",
        "chunks = ...\n",
        "\n",
        "print(f\"Nombre d'extraits : {len(chunks)}\")\n",
        "\n",
        "# Explore chunks\n",
        "print(chunks[0])\n",
        "\n",
        "# Embed chunks\n",
        "chunks_embeddings = ...\n",
        "print(chunks_embeddings.shape)\n",
        "\n",
        "# Write and embed query\n",
        "query = \"...\"\n",
        "query_embedding = ...\n",
        "\n",
        "# Compute cosine similarity between query and chunks\n",
        "similarity_score = ...\n",
        "\n",
        "# Get top_n highest similarity indexes\n",
        "top_n = 5\n",
        "top_indexes = np.argsort(similarity_score)[-top_n:][::-1]\n",
        "\n",
        "# Print retrieved chunks\n",
        "for i, top_index in enumerate(top_indexes):\n",
        "    print(f\"Extrait numéro {i+1}\")\n",
        "    print(f\"Score de similarité : {similarity_score[top_index]:.2f}\")\n",
        "    print(\"```\")\n",
        "    print(chunks[top_index])\n",
        "    print(\"```\")\n",
        "    print(\"\\n-----------------\\n\")\n",
        "```\n",
        "\n"
      ]
    },
    {
      "cell_type": "markdown",
      "metadata": {
        "id": "qYy_jdPIyBEU"
      },
      "source": [
        "#### Solution"
      ]
    },
    {
      "cell_type": "code",
      "execution_count": null,
      "metadata": {
        "colab": {
          "base_uri": "https://localhost:8080/"
        },
        "id": "FJWGohYFTAz4",
        "outputId": "c5f56dec-38f4-4288-99f1-d3bf330acbb5"
      },
      "outputs": [],
      "source": [
        "# Parse textual content in file and chunk it\n",
        "file_path = \"./Bilan-electrique-2023-synthese.pdf\" # change this line if you want to try on your doc\n",
        "chunks = get_text_chunks(file_path, chunk_size=200, chunk_overlap=20)\n",
        "\n",
        "print(f\"Nombre d'extraits : {len(chunks)}\")"
      ]
    },
    {
      "cell_type": "code",
      "execution_count": null,
      "metadata": {
        "colab": {
          "base_uri": "https://localhost:8080/"
        },
        "id": "zMw1QNNz1FlS",
        "outputId": "b38156ce-20a2-4824-9aa7-8dcc97c249d1"
      },
      "outputs": [],
      "source": [
        "# Explore chunks\n",
        "print(chunks[0])"
      ]
    },
    {
      "cell_type": "code",
      "execution_count": null,
      "metadata": {
        "colab": {
          "base_uri": "https://localhost:8080/",
          "height": 66,
          "referenced_widgets": [
            "6424d2fd77cb4078aaa71c0d60ef70bd",
            "295b03b871b14d459eed7540da82b571",
            "b9f27f5f430541e482029a9c90ae296d",
            "11e15dfac1fd41e8b6b1d6aea4cddac0",
            "f564b7da61354c789e0401e21fa879de",
            "153e24d0c5424985a240ee21dec8f215",
            "024156c0826344cc9b292cc23660716b",
            "abe46047e7c5478b983fee5574066d99",
            "b92e92e85c4240be9e33bf60b2e211f4",
            "0d29971dffbb440bb2875fef4f6c1a87",
            "d784c3109d13467591a3f9e61ec8ca60"
          ]
        },
        "id": "Y0Q2vTVNUilm",
        "outputId": "90338a84-18ac-43e0-fe9c-e94b5205b709"
      },
      "outputs": [],
      "source": [
        "# Embed chunks\n",
        "chunks_embeddings = model.encode(chunks, show_progress_bar=True)\n",
        "print(chunks_embeddings.shape)"
      ]
    },
    {
      "cell_type": "code",
      "execution_count": null,
      "metadata": {
        "colab": {
          "base_uri": "https://localhost:8080/"
        },
        "id": "trEMNu6aUooE",
        "outputId": "b4bda0f8-1a19-43c5-a37a-366d82c52352"
      },
      "outputs": [],
      "source": [
        "# Write and embed query\n",
        "query = \"Comment a évolué la consommation électrique entre 2022 et 2023 ?\"\n",
        "query_embedding = model.encode(query)\n",
        "\n",
        "# Compute cosine similarity between query and chunks\n",
        "similarity_score = cosine_similarity([query_embedding], chunks_embeddings).squeeze()\n",
        "\n",
        "# Get top_n highest similarity indexes\n",
        "top_n = 5\n",
        "top_indexes = np.argsort(similarity_score)[-top_n:][::-1]\n",
        "\n",
        "# Print retrieved chunks\n",
        "for i, top_index in enumerate(top_indexes):\n",
        "    print(f\"Extrait numéro {i+1}\")\n",
        "    print(f\"Score de similarité : {similarity_score[top_index]:.2f}\")\n",
        "    print(\"```\")\n",
        "    print(chunks[top_index])\n",
        "    print(\"```\")\n",
        "    print(\"\\n-----------------\\n\")"
      ]
    }
  ],
  "metadata": {
    "colab": {
      "collapsed_sections": [
        "BEg4xb_zSTaE",
        "L2SGVlxK02ms",
        "XfbSyZgdnI7I",
        "a8mbPPMiKneJ",
        "xg4NRnQseyMj",
        "yRZTas9N135Y"
      ],
      "provenance": []
    },
    "kernelspec": {
      "display_name": "Python 3",
      "name": "python3"
    },
    "language_info": {
      "codemirror_mode": {
        "name": "ipython",
        "version": 3
      },
      "file_extension": ".py",
      "mimetype": "text/x-python",
      "name": "python",
      "nbconvert_exporter": "python",
      "pygments_lexer": "ipython3",
      "version": "3.10.14"
    },
    "widgets": {
      "application/vnd.jupyter.widget-state+json": {
        "024156c0826344cc9b292cc23660716b": {
          "model_module": "@jupyter-widgets/controls",
          "model_module_version": "1.5.0",
          "model_name": "DescriptionStyleModel",
          "state": {
            "_model_module": "@jupyter-widgets/controls",
            "_model_module_version": "1.5.0",
            "_model_name": "DescriptionStyleModel",
            "_view_count": null,
            "_view_module": "@jupyter-widgets/base",
            "_view_module_version": "1.2.0",
            "_view_name": "StyleView",
            "description_width": ""
          }
        },
        "0d29971dffbb440bb2875fef4f6c1a87": {
          "model_module": "@jupyter-widgets/base",
          "model_module_version": "1.2.0",
          "model_name": "LayoutModel",
          "state": {
            "_model_module": "@jupyter-widgets/base",
            "_model_module_version": "1.2.0",
            "_model_name": "LayoutModel",
            "_view_count": null,
            "_view_module": "@jupyter-widgets/base",
            "_view_module_version": "1.2.0",
            "_view_name": "LayoutView",
            "align_content": null,
            "align_items": null,
            "align_self": null,
            "border": null,
            "bottom": null,
            "display": null,
            "flex": null,
            "flex_flow": null,
            "grid_area": null,
            "grid_auto_columns": null,
            "grid_auto_flow": null,
            "grid_auto_rows": null,
            "grid_column": null,
            "grid_gap": null,
            "grid_row": null,
            "grid_template_areas": null,
            "grid_template_columns": null,
            "grid_template_rows": null,
            "height": null,
            "justify_content": null,
            "justify_items": null,
            "left": null,
            "margin": null,
            "max_height": null,
            "max_width": null,
            "min_height": null,
            "min_width": null,
            "object_fit": null,
            "object_position": null,
            "order": null,
            "overflow": null,
            "overflow_x": null,
            "overflow_y": null,
            "padding": null,
            "right": null,
            "top": null,
            "visibility": null,
            "width": null
          }
        },
        "11e15dfac1fd41e8b6b1d6aea4cddac0": {
          "model_module": "@jupyter-widgets/controls",
          "model_module_version": "1.5.0",
          "model_name": "HTMLModel",
          "state": {
            "_dom_classes": [],
            "_model_module": "@jupyter-widgets/controls",
            "_model_module_version": "1.5.0",
            "_model_name": "HTMLModel",
            "_view_count": null,
            "_view_module": "@jupyter-widgets/controls",
            "_view_module_version": "1.5.0",
            "_view_name": "HTMLView",
            "description": "",
            "description_tooltip": null,
            "layout": "IPY_MODEL_0d29971dffbb440bb2875fef4f6c1a87",
            "placeholder": "​",
            "style": "IPY_MODEL_d784c3109d13467591a3f9e61ec8ca60",
            "value": " 18/18 [00:35&lt;00:00,  1.34s/it]"
          }
        },
        "153e24d0c5424985a240ee21dec8f215": {
          "model_module": "@jupyter-widgets/base",
          "model_module_version": "1.2.0",
          "model_name": "LayoutModel",
          "state": {
            "_model_module": "@jupyter-widgets/base",
            "_model_module_version": "1.2.0",
            "_model_name": "LayoutModel",
            "_view_count": null,
            "_view_module": "@jupyter-widgets/base",
            "_view_module_version": "1.2.0",
            "_view_name": "LayoutView",
            "align_content": null,
            "align_items": null,
            "align_self": null,
            "border": null,
            "bottom": null,
            "display": null,
            "flex": null,
            "flex_flow": null,
            "grid_area": null,
            "grid_auto_columns": null,
            "grid_auto_flow": null,
            "grid_auto_rows": null,
            "grid_column": null,
            "grid_gap": null,
            "grid_row": null,
            "grid_template_areas": null,
            "grid_template_columns": null,
            "grid_template_rows": null,
            "height": null,
            "justify_content": null,
            "justify_items": null,
            "left": null,
            "margin": null,
            "max_height": null,
            "max_width": null,
            "min_height": null,
            "min_width": null,
            "object_fit": null,
            "object_position": null,
            "order": null,
            "overflow": null,
            "overflow_x": null,
            "overflow_y": null,
            "padding": null,
            "right": null,
            "top": null,
            "visibility": null,
            "width": null
          }
        },
        "295b03b871b14d459eed7540da82b571": {
          "model_module": "@jupyter-widgets/controls",
          "model_module_version": "1.5.0",
          "model_name": "HTMLModel",
          "state": {
            "_dom_classes": [],
            "_model_module": "@jupyter-widgets/controls",
            "_model_module_version": "1.5.0",
            "_model_name": "HTMLModel",
            "_view_count": null,
            "_view_module": "@jupyter-widgets/controls",
            "_view_module_version": "1.5.0",
            "_view_name": "HTMLView",
            "description": "",
            "description_tooltip": null,
            "layout": "IPY_MODEL_153e24d0c5424985a240ee21dec8f215",
            "placeholder": "​",
            "style": "IPY_MODEL_024156c0826344cc9b292cc23660716b",
            "value": "Batches: 100%"
          }
        },
        "6424d2fd77cb4078aaa71c0d60ef70bd": {
          "model_module": "@jupyter-widgets/controls",
          "model_module_version": "1.5.0",
          "model_name": "HBoxModel",
          "state": {
            "_dom_classes": [],
            "_model_module": "@jupyter-widgets/controls",
            "_model_module_version": "1.5.0",
            "_model_name": "HBoxModel",
            "_view_count": null,
            "_view_module": "@jupyter-widgets/controls",
            "_view_module_version": "1.5.0",
            "_view_name": "HBoxView",
            "box_style": "",
            "children": [
              "IPY_MODEL_295b03b871b14d459eed7540da82b571",
              "IPY_MODEL_b9f27f5f430541e482029a9c90ae296d",
              "IPY_MODEL_11e15dfac1fd41e8b6b1d6aea4cddac0"
            ],
            "layout": "IPY_MODEL_f564b7da61354c789e0401e21fa879de"
          }
        },
        "abe46047e7c5478b983fee5574066d99": {
          "model_module": "@jupyter-widgets/base",
          "model_module_version": "1.2.0",
          "model_name": "LayoutModel",
          "state": {
            "_model_module": "@jupyter-widgets/base",
            "_model_module_version": "1.2.0",
            "_model_name": "LayoutModel",
            "_view_count": null,
            "_view_module": "@jupyter-widgets/base",
            "_view_module_version": "1.2.0",
            "_view_name": "LayoutView",
            "align_content": null,
            "align_items": null,
            "align_self": null,
            "border": null,
            "bottom": null,
            "display": null,
            "flex": null,
            "flex_flow": null,
            "grid_area": null,
            "grid_auto_columns": null,
            "grid_auto_flow": null,
            "grid_auto_rows": null,
            "grid_column": null,
            "grid_gap": null,
            "grid_row": null,
            "grid_template_areas": null,
            "grid_template_columns": null,
            "grid_template_rows": null,
            "height": null,
            "justify_content": null,
            "justify_items": null,
            "left": null,
            "margin": null,
            "max_height": null,
            "max_width": null,
            "min_height": null,
            "min_width": null,
            "object_fit": null,
            "object_position": null,
            "order": null,
            "overflow": null,
            "overflow_x": null,
            "overflow_y": null,
            "padding": null,
            "right": null,
            "top": null,
            "visibility": null,
            "width": null
          }
        },
        "b92e92e85c4240be9e33bf60b2e211f4": {
          "model_module": "@jupyter-widgets/controls",
          "model_module_version": "1.5.0",
          "model_name": "ProgressStyleModel",
          "state": {
            "_model_module": "@jupyter-widgets/controls",
            "_model_module_version": "1.5.0",
            "_model_name": "ProgressStyleModel",
            "_view_count": null,
            "_view_module": "@jupyter-widgets/base",
            "_view_module_version": "1.2.0",
            "_view_name": "StyleView",
            "bar_color": null,
            "description_width": ""
          }
        },
        "b9f27f5f430541e482029a9c90ae296d": {
          "model_module": "@jupyter-widgets/controls",
          "model_module_version": "1.5.0",
          "model_name": "FloatProgressModel",
          "state": {
            "_dom_classes": [],
            "_model_module": "@jupyter-widgets/controls",
            "_model_module_version": "1.5.0",
            "_model_name": "FloatProgressModel",
            "_view_count": null,
            "_view_module": "@jupyter-widgets/controls",
            "_view_module_version": "1.5.0",
            "_view_name": "ProgressView",
            "bar_style": "success",
            "description": "",
            "description_tooltip": null,
            "layout": "IPY_MODEL_abe46047e7c5478b983fee5574066d99",
            "max": 18,
            "min": 0,
            "orientation": "horizontal",
            "style": "IPY_MODEL_b92e92e85c4240be9e33bf60b2e211f4",
            "value": 18
          }
        },
        "d784c3109d13467591a3f9e61ec8ca60": {
          "model_module": "@jupyter-widgets/controls",
          "model_module_version": "1.5.0",
          "model_name": "DescriptionStyleModel",
          "state": {
            "_model_module": "@jupyter-widgets/controls",
            "_model_module_version": "1.5.0",
            "_model_name": "DescriptionStyleModel",
            "_view_count": null,
            "_view_module": "@jupyter-widgets/base",
            "_view_module_version": "1.2.0",
            "_view_name": "StyleView",
            "description_width": ""
          }
        },
        "f564b7da61354c789e0401e21fa879de": {
          "model_module": "@jupyter-widgets/base",
          "model_module_version": "1.2.0",
          "model_name": "LayoutModel",
          "state": {
            "_model_module": "@jupyter-widgets/base",
            "_model_module_version": "1.2.0",
            "_model_name": "LayoutModel",
            "_view_count": null,
            "_view_module": "@jupyter-widgets/base",
            "_view_module_version": "1.2.0",
            "_view_name": "LayoutView",
            "align_content": null,
            "align_items": null,
            "align_self": null,
            "border": null,
            "bottom": null,
            "display": null,
            "flex": null,
            "flex_flow": null,
            "grid_area": null,
            "grid_auto_columns": null,
            "grid_auto_flow": null,
            "grid_auto_rows": null,
            "grid_column": null,
            "grid_gap": null,
            "grid_row": null,
            "grid_template_areas": null,
            "grid_template_columns": null,
            "grid_template_rows": null,
            "height": null,
            "justify_content": null,
            "justify_items": null,
            "left": null,
            "margin": null,
            "max_height": null,
            "max_width": null,
            "min_height": null,
            "min_width": null,
            "object_fit": null,
            "object_position": null,
            "order": null,
            "overflow": null,
            "overflow_x": null,
            "overflow_y": null,
            "padding": null,
            "right": null,
            "top": null,
            "visibility": null,
            "width": null
          }
        }
      }
    }
  },
  "nbformat": 4,
  "nbformat_minor": 0
}
